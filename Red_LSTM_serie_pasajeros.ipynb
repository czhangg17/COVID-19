{
  "nbformat": 4,
  "nbformat_minor": 0,
  "metadata": {
    "colab": {
      "name": "Red LSTM -serie pasajeros.ipynb",
      "provenance": [],
      "collapsed_sections": [],
      "authorship_tag": "ABX9TyOVkgcBqyFLL0ZekEeFcFpV",
      "include_colab_link": true
    },
    "kernelspec": {
      "name": "python3",
      "display_name": "Python 3"
    }
  },
  "cells": [
    {
      "cell_type": "markdown",
      "metadata": {
        "id": "view-in-github",
        "colab_type": "text"
      },
      "source": [
        "<a href=\"https://colab.research.google.com/github/czhangg17/COVID-19/blob/master/Red_LSTM_serie_pasajeros.ipynb\" target=\"_parent\"><img src=\"https://colab.research.google.com/assets/colab-badge.svg\" alt=\"Open In Colab\"/></a>"
      ]
    },
    {
      "cell_type": "markdown",
      "metadata": {
        "id": "h29e8zaX6bi2",
        "colab_type": "text"
      },
      "source": [
        "# Ejemplo de red LSTM utilizando la serie pasajeros\n"
      ]
    },
    {
      "cell_type": "code",
      "metadata": {
        "id": "8xERCO0NZ1hG",
        "colab_type": "code",
        "colab": {
          "base_uri": "https://localhost:8080/",
          "height": 111
        },
        "outputId": "44ce1ad8-e426-4f60-cb4f-0e7a70224ea3"
      },
      "source": [
        "from __future__ import absolute_import, division, print_function, unicode_literals\n",
        "\n",
        "import tensorflow as tf\n",
        "import numpy as np\n",
        "from tensorflow import keras\n",
        "import pandas as pd\n",
        "import seaborn as sns\n",
        "from pylab import rcParams\n",
        "import matplotlib.pyplot as plt\n",
        "from matplotlib import rc\n",
        "from keras.layers import LSTM\n",
        "from sklearn.preprocessing import MinMaxScaler\n",
        "scaler = MinMaxScaler(feature_range=(0, 1))\n",
        "\n",
        "print(\"Versión de Tensorflow: \", tf.__version__)"
      ],
      "execution_count": 1,
      "outputs": [
        {
          "output_type": "stream",
          "text": [
            "/usr/local/lib/python3.6/dist-packages/statsmodels/tools/_testing.py:19: FutureWarning: pandas.util.testing is deprecated. Use the functions in the public API at pandas.testing instead.\n",
            "  import pandas.util.testing as tm\n",
            "Using TensorFlow backend.\n"
          ],
          "name": "stderr"
        },
        {
          "output_type": "stream",
          "text": [
            "Versión de Tensorflow:  2.2.0\n"
          ],
          "name": "stdout"
        }
      ]
    },
    {
      "cell_type": "code",
      "metadata": {
        "id": "fx5hOG5hj2YO",
        "colab_type": "code",
        "colab": {
          "base_uri": "https://localhost:8080/",
          "height": 319
        },
        "outputId": "29f0d5ef-4281-42f2-bc30-668b54512e00"
      },
      "source": [
        "from google.colab import drive\n",
        "PATH = '/content/drive/My Drive/Mineria de datos/AirPassengers.csv' \n",
        "drive.mount('/content/drive')\n",
        "data=pd.read_csv(PATH, header=0)\n",
        "data.tail()\n"
      ],
      "execution_count": 2,
      "outputs": [
        {
          "output_type": "stream",
          "text": [
            "Go to this URL in a browser: https://accounts.google.com/o/oauth2/auth?client_id=947318989803-6bn6qk8qdgf4n4g3pfee6491hc0brc4i.apps.googleusercontent.com&redirect_uri=urn%3aietf%3awg%3aoauth%3a2.0%3aoob&response_type=code&scope=email%20https%3a%2f%2fwww.googleapis.com%2fauth%2fdocs.test%20https%3a%2f%2fwww.googleapis.com%2fauth%2fdrive%20https%3a%2f%2fwww.googleapis.com%2fauth%2fdrive.photos.readonly%20https%3a%2f%2fwww.googleapis.com%2fauth%2fpeopleapi.readonly\n",
            "\n",
            "Enter your authorization code:\n",
            "··········\n",
            "Mounted at /content/drive\n"
          ],
          "name": "stdout"
        },
        {
          "output_type": "execute_result",
          "data": {
            "text/html": [
              "<div>\n",
              "<style scoped>\n",
              "    .dataframe tbody tr th:only-of-type {\n",
              "        vertical-align: middle;\n",
              "    }\n",
              "\n",
              "    .dataframe tbody tr th {\n",
              "        vertical-align: top;\n",
              "    }\n",
              "\n",
              "    .dataframe thead th {\n",
              "        text-align: right;\n",
              "    }\n",
              "</style>\n",
              "<table border=\"1\" class=\"dataframe\">\n",
              "  <thead>\n",
              "    <tr style=\"text-align: right;\">\n",
              "      <th></th>\n",
              "      <th>Month</th>\n",
              "      <th>NPassengers</th>\n",
              "    </tr>\n",
              "  </thead>\n",
              "  <tbody>\n",
              "    <tr>\n",
              "      <th>139</th>\n",
              "      <td>1960-08</td>\n",
              "      <td>606</td>\n",
              "    </tr>\n",
              "    <tr>\n",
              "      <th>140</th>\n",
              "      <td>1960-09</td>\n",
              "      <td>508</td>\n",
              "    </tr>\n",
              "    <tr>\n",
              "      <th>141</th>\n",
              "      <td>1960-10</td>\n",
              "      <td>461</td>\n",
              "    </tr>\n",
              "    <tr>\n",
              "      <th>142</th>\n",
              "      <td>1960-11</td>\n",
              "      <td>390</td>\n",
              "    </tr>\n",
              "    <tr>\n",
              "      <th>143</th>\n",
              "      <td>1960-12</td>\n",
              "      <td>432</td>\n",
              "    </tr>\n",
              "  </tbody>\n",
              "</table>\n",
              "</div>"
            ],
            "text/plain": [
              "       Month  NPassengers\n",
              "139  1960-08          606\n",
              "140  1960-09          508\n",
              "141  1960-10          461\n",
              "142  1960-11          390\n",
              "143  1960-12          432"
            ]
          },
          "metadata": {
            "tags": []
          },
          "execution_count": 2
        }
      ]
    },
    {
      "cell_type": "markdown",
      "metadata": {
        "id": "mampujX1CnVu",
        "colab_type": "text"
      },
      "source": [
        "## modificamos los datos para que sean una serie temporal"
      ]
    },
    {
      "cell_type": "code",
      "metadata": {
        "id": "VVDiY-NDAqyW",
        "colab_type": "code",
        "colab": {
          "base_uri": "https://localhost:8080/",
          "height": 313
        },
        "outputId": "73fe7092-fb08-43c9-a58a-67514c5851e6"
      },
      "source": [
        "#set_trace()\n",
        "con=data['Month']\n",
        "data['Month']=pd.to_datetime(data['Month'])\n",
        "##data.set_index('Month', inplace=True)\n",
        "pasajeros=data.set_index('Month')\n",
        "#check datatype of index\n",
        "#convert to time series:\n",
        "tsAirP = pasajeros['NPassengers']\n",
        "plt.plot(tsAirP)\n",
        "plt.title('Setie de Tiempo pasajeros')\n",
        "plt.xlabel('años')\n",
        "plt.ylabel('Pasajeros')\n",
        "#type(tsAirP)\n",
        "#type(pasajeros)"
      ],
      "execution_count": 3,
      "outputs": [
        {
          "output_type": "execute_result",
          "data": {
            "text/plain": [
              "Text(0, 0.5, 'Pasajeros')"
            ]
          },
          "metadata": {
            "tags": []
          },
          "execution_count": 3
        },
        {
          "output_type": "display_data",
          "data": {
            "image/png": "[encoded data removed]",
            "text/plain": [
              "<Figure size 432x288 with 1 Axes>"
            ]
          },
          "metadata": {
            "tags": [],
            "needs_background": "light"
          }
        }
      ]
    },
    {
      "cell_type": "markdown",
      "metadata": {
        "id": "JnVIFlOdBBQw",
        "colab_type": "text"
      },
      "source": [
        "# normalizacion  o escalamiento de los datos \n",
        "La normalizacion de los datos se hace con el fin de tener una forma estandarizada de ellos y al entrar por la tanh o por el sigmoide sea mas facil de esocger quienes estan mas cercanos a 1 o  0. Es decir, finalmente es mas facil realizar la clasificacion de los datos sobre los cuales generan la conexion con la siguiente neurona.\n",
        "\n",
        "\n",
        "\n",
        "\n"
      ]
    },
    {
      "cell_type": "code",
      "metadata": {
        "id": "tQLLwXr5KA2u",
        "colab_type": "code",
        "colab": {}
      },
      "source": [
        "# normalizacion de los datos\n",
        "scaler = MinMaxScaler(feature_range=(0, 1))\n",
        "dataset_scaled = scaler.fit_transform(pasajeros.values)\n",
        "dataset=pd.DataFrame(dataset_scaled)\n",
        "dataset.index=pasajeros.index"
      ],
      "execution_count": 4,
      "outputs": []
    },
    {
      "cell_type": "code",
      "metadata": {
        "id": "uK3aa3r9LZQA",
        "colab_type": "code",
        "colab": {
          "base_uri": "https://localhost:8080/",
          "height": 238
        },
        "outputId": "d047bbdf-0791-4acc-b023-6b717ec26284"
      },
      "source": [
        "dataset.tail()"
      ],
      "execution_count": 6,
      "outputs": [
        {
          "output_type": "execute_result",
          "data": {
            "text/html": [
              "<div>\n",
              "<style scoped>\n",
              "    .dataframe tbody tr th:only-of-type {\n",
              "        vertical-align: middle;\n",
              "    }\n",
              "\n",
              "    .dataframe tbody tr th {\n",
              "        vertical-align: top;\n",
              "    }\n",
              "\n",
              "    .dataframe thead th {\n",
              "        text-align: right;\n",
              "    }\n",
              "</style>\n",
              "<table border=\"1\" class=\"dataframe\">\n",
              "  <thead>\n",
              "    <tr style=\"text-align: right;\">\n",
              "      <th></th>\n",
              "      <th>0</th>\n",
              "    </tr>\n",
              "    <tr>\n",
              "      <th>Month</th>\n",
              "      <th></th>\n",
              "    </tr>\n",
              "  </thead>\n",
              "  <tbody>\n",
              "    <tr>\n",
              "      <th>1960-08-01</th>\n",
              "      <td>0.969112</td>\n",
              "    </tr>\n",
              "    <tr>\n",
              "      <th>1960-09-01</th>\n",
              "      <td>0.779923</td>\n",
              "    </tr>\n",
              "    <tr>\n",
              "      <th>1960-10-01</th>\n",
              "      <td>0.689189</td>\n",
              "    </tr>\n",
              "    <tr>\n",
              "      <th>1960-11-01</th>\n",
              "      <td>0.552124</td>\n",
              "    </tr>\n",
              "    <tr>\n",
              "      <th>1960-12-01</th>\n",
              "      <td>0.633205</td>\n",
              "    </tr>\n",
              "  </tbody>\n",
              "</table>\n",
              "</div>"
            ],
            "text/plain": [
              "                   0\n",
              "Month               \n",
              "1960-08-01  0.969112\n",
              "1960-09-01  0.779923\n",
              "1960-10-01  0.689189\n",
              "1960-11-01  0.552124\n",
              "1960-12-01  0.633205"
            ]
          },
          "metadata": {
            "tags": []
          },
          "execution_count": 6
        }
      ]
    },
    {
      "cell_type": "markdown",
      "metadata": {
        "id": "y6VBA-ksLxLi",
        "colab_type": "text"
      },
      "source": [
        "# ahora vamos a escoger la cantidad de datos de validacion y entrenamiento\n",
        "Esogemos 2/3 de los datos para entrenamiento y 1/3 para validación.\n"
      ]
    },
    {
      "cell_type": "code",
      "metadata": {
        "id": "tbHj8-23O1Kk",
        "colab_type": "code",
        "colab": {
          "base_uri": "https://localhost:8080/",
          "height": 35
        },
        "outputId": "31178f43-8753-4a09-a726-0255f8c71a13"
      },
      "source": [
        "# dividimos entre entranmiento y test\n",
        "train_size = int(len(dataset) * 0.67)\n",
        "test_size = len(dataset) - train_size\n",
        "train=dataset[:train_size]\n",
        "test = dataset[train_size:len(dataset)]\n",
        "print(train_size,test_size)"
      ],
      "execution_count": 7,
      "outputs": [
        {
          "output_type": "stream",
          "text": [
            "96 48\n"
          ],
          "name": "stdout"
        }
      ]
    },
    {
      "cell_type": "markdown",
      "metadata": {
        "id": "dW8psrhT5Oqa",
        "colab_type": "text"
      },
      "source": [
        "Creamos la funcion create_dataset donde reibe como parametro un array de numpy que queremos convertir en un conjunto de datos , y el parametro time_steps, sera el numero de pasos previos que se quiere utilizar en la varaible de entrada para predecir el seiguiente periodo de tiempo, en este caso es 1.\n",
        "\n",
        "Esta funcion lo que hace es llenar en los valores de Xs y ys con el conjunto de datos donde X es el numero de pasajeros en el momento t+1"
      ]
    },
    {
      "cell_type": "code",
      "metadata": {
        "id": "xDrv9j_BPM5v",
        "colab_type": "code",
        "colab": {}
      },
      "source": [
        "# esta funcion nos permite poner en una matriz los datos que se encuentrar en un vector\n",
        "def create_dataset(X, y, time_steps=1):\n",
        "    Xs, ys = [], []\n",
        "    for i in range(len(X) - time_steps):\n",
        "        v = X.iloc[i:(i + time_steps)].values\n",
        "        Xs.append(v)\n",
        "        ys.append(y[i + time_steps])\n",
        "    return np.array(Xs), np.array(ys)\n",
        "# semilla aleatoria para reproducibilidad\n",
        "np.random.seed(7)"
      ],
      "execution_count": 8,
      "outputs": []
    },
    {
      "cell_type": "code",
      "metadata": {
        "id": "MlFKJlU_RADa",
        "colab_type": "code",
        "colab": {
          "base_uri": "https://localhost:8080/",
          "height": 286
        },
        "outputId": "4628a04e-5b14-40e8-fa27-560f913d264b"
      },
      "source": [
        "#plt.figure(figsize=(16,8))\n",
        "len_train=len(train)\n",
        "len_test=len(test)\n",
        "plt.plot(train, label='Conjunto de entrenamiento (Training set): ' + str(len_train) +' puntos (67%)')\n",
        "plt.plot(test, label='Conjunto de Validación (Validation set): '  + str(len_test) + ' puntos (33%)') \n",
        "plt.title(\"Serie de tiempo Pasajero reescalada \", size = 20)\n",
        "plt.legend()\n",
        "plt.show()"
      ],
      "execution_count": 9,
      "outputs": [
        {
          "output_type": "display_data",
          "data": {
            "image/png": "[encoded data removed]",
            "text/plain": [
              "<Figure size 432x288 with 1 Axes>"
            ]
          },
          "metadata": {
            "tags": [],
            "needs_background": "light"
          }
        }
      ]
    },
    {
      "cell_type": "markdown",
      "metadata": {
        "id": "UbxoMJBt6v3Y",
        "colab_type": "text"
      },
      "source": [
        "Usemos la funciona anterior para preparar los datos ya recibiendo los parametros que pide la funcion\n",
        "\n",
        "\n"
      ]
    },
    {
      "cell_type": "code",
      "metadata": {
        "id": "WrcP7f76Q7kz",
        "colab_type": "code",
        "colab": {
          "base_uri": "https://localhost:8080/",
          "height": 35
        },
        "outputId": "dd5fca31-f1b1-4d10-d74a-52b957aa19fd"
      },
      "source": [
        "time_steps = 1\n",
        "\n",
        "# reshape to [samples, time_steps, n_features]\n",
        "\n",
        "X_train, trainY = create_dataset(train, train.values, time_steps)\n",
        "X_test, testY = create_dataset(test, test.values, time_steps)\n",
        "\n",
        "print(X_train.shape, trainY.shape)"
      ],
      "execution_count": 10,
      "outputs": [
        {
          "output_type": "stream",
          "text": [
            "(95, 1, 1) (95, 1)\n"
          ],
          "name": "stdout"
        }
      ]
    },
    {
      "cell_type": "code",
      "metadata": {
        "id": "QTjmI8sd2u8v",
        "colab_type": "code",
        "colab": {
          "base_uri": "https://localhost:8080/",
          "height": 35
        },
        "outputId": "b5d5aefc-1fe1-4c3f-8ab9-268233e4539c"
      },
      "source": [
        "print(len(X_train))"
      ],
      "execution_count": 11,
      "outputs": [
        {
          "output_type": "stream",
          "text": [
            "95\n"
          ],
          "name": "stdout"
        }
      ]
    },
    {
      "cell_type": "code",
      "metadata": {
        "id": "9ESckRc3Uaey",
        "colab_type": "code",
        "colab": {}
      },
      "source": [
        "# remodelamos la entrada para que sea[muestras, pasos de tiempo, características]\n",
        "trainX = np.reshape(X_train, (X_train.shape[0], 1, X_train.shape[1]))\n",
        "testX = np.reshape(X_test, (X_test.shape[0], 1, X_test.shape[1]))"
      ],
      "execution_count": 12,
      "outputs": []
    },
    {
      "cell_type": "markdown",
      "metadata": {
        "id": "S-rflB9ZSbb8",
        "colab_type": "text"
      },
      "source": [
        "# modelamiento y creacion de red LSTM utilizando keras\n"
      ]
    },
    {
      "cell_type": "code",
      "metadata": {
        "id": "J-ECm3_AJ8Kg",
        "colab_type": "code",
        "colab": {}
      },
      "source": [
        "#help(keras.layers.LSTM)"
      ],
      "execution_count": 13,
      "outputs": []
    },
    {
      "cell_type": "markdown",
      "metadata": {
        "id": "J2eB8hcwZc4b",
        "colab_type": "text"
      },
      "source": [
        "Escogemos una modelo donde la capa LSTM tenga 4 neuronas, y solo una capa densa, y las entradas (inputs_shape) de la capa LSTM va a estar dada por la cantidad de datos de entenamiento y de pasos previos a usar "
      ]
    },
    {
      "cell_type": "code",
      "metadata": {
        "id": "tQSem-idSS8P",
        "colab_type": "code",
        "colab": {
          "base_uri": "https://localhost:8080/",
          "height": 35
        },
        "outputId": "47c60759-9f9c-4131-f6e5-c41c9bbc7c44"
      },
      "source": [
        "lstm_output =4 # numero de neuronas (no hay ninguna regla para la escogencia,se hace a partir del refinamiento del modelo)\n",
        "model = keras.Sequential()\n",
        "model.add(keras.layers.LSTM(units=lstm_output,  input_shape=(X_train.shape[1], X_train.shape[2])))\n",
        "model.add(keras.layers.Dense(units=1))\n",
        "\n",
        "X_train.shape"
      ],
      "execution_count": 14,
      "outputs": [
        {
          "output_type": "execute_result",
          "data": {
            "text/plain": [
              "(95, 1, 1)"
            ]
          },
          "metadata": {
            "tags": []
          },
          "execution_count": 14
        }
      ]
    },
    {
      "cell_type": "markdown",
      "metadata": {
        "id": "19mOnKHDLW4s",
        "colab_type": "text"
      },
      "source": [
        "necesitamos compilar el modelo para poder trabajar con él"
      ]
    },
    {
      "cell_type": "markdown",
      "metadata": {
        "id": "0Qr0QbIdiAWk",
        "colab_type": "text"
      },
      "source": [
        "El optimizador de Adam es de los mas utilizados puesto que se usa el gradiente descendiente estocastico , con 0.001 su tasa de aprendizaje"
      ]
    },
    {
      "cell_type": "code",
      "metadata": {
        "id": "_VaNMOM-SgEO",
        "colab_type": "code",
        "colab": {}
      },
      "source": [
        "# compilacion del modelo\n",
        "model.compile(loss='mean_squared_error',\n",
        "  optimizer=keras.optimizers.Adam(0.001)\n",
        ")"
      ],
      "execution_count": 15,
      "outputs": []
    },
    {
      "cell_type": "code",
      "metadata": {
        "id": "IF--O0VnSn78",
        "colab_type": "code",
        "colab": {
          "base_uri": "https://localhost:8080/",
          "height": 35
        },
        "outputId": "b8e08dbf-76cb-449b-df55-909a0958da1a"
      },
      "source": [
        "# numero optimo de parametros\n",
        "4*(lstm_output*lstm_output + lstm_output*time_steps+ lstm_output)"
      ],
      "execution_count": 16,
      "outputs": [
        {
          "output_type": "execute_result",
          "data": {
            "text/plain": [
              "96"
            ]
          },
          "metadata": {
            "tags": []
          },
          "execution_count": 16
        }
      ]
    },
    {
      "cell_type": "markdown",
      "metadata": {
        "id": "HECHwGvFT3q7",
        "colab_type": "text"
      },
      "source": [
        "## summary del modelo\n",
        "tenemos que son 96 parametros , que seria la cantidad de pesos que se deben estimar por cada dato de entrenamiento y dentro de la capa densa solo habra que estimar 5 parametros con un total de 101 parámetros\n"
      ]
    },
    {
      "cell_type": "code",
      "metadata": {
        "id": "iXsbvmsbStBH",
        "colab_type": "code",
        "colab": {
          "base_uri": "https://localhost:8080/",
          "height": 239
        },
        "outputId": "8b098c55-5b80-4ac0-da42-22299791590e"
      },
      "source": [
        "model.summary()\n"
      ],
      "execution_count": 17,
      "outputs": [
        {
          "output_type": "stream",
          "text": [
            "Model: \"sequential\"\n",
            "_________________________________________________________________\n",
            "Layer (type)                 Output Shape              Param #   \n",
            "=================================================================\n",
            "lstm (LSTM)                  (None, 4)                 96        \n",
            "_________________________________________________________________\n",
            "dense (Dense)                (None, 1)                 5         \n",
            "=================================================================\n",
            "Total params: 101\n",
            "Trainable params: 101\n",
            "Non-trainable params: 0\n",
            "_________________________________________________________________\n"
          ],
          "name": "stdout"
        }
      ]
    },
    {
      "cell_type": "markdown",
      "metadata": {
        "id": "Etj9nqxBS2Dx",
        "colab_type": "text"
      },
      "source": [
        "# entrenamiento del modelo\n"
      ]
    },
    {
      "cell_type": "code",
      "metadata": {
        "id": "ur7CFMnoL0jl",
        "colab_type": "code",
        "colab": {}
      },
      "source": [
        "#help(model.fit)"
      ],
      "execution_count": 18,
      "outputs": []
    },
    {
      "cell_type": "code",
      "metadata": {
        "id": "5NITBGjIaFmr",
        "colab_type": "code",
        "colab": {}
      },
      "source": [
        "np.random.seed(2020)"
      ],
      "execution_count": 19,
      "outputs": []
    },
    {
      "cell_type": "code",
      "metadata": {
        "id": "NbTaa7mrXkGN",
        "colab_type": "code",
        "colab": {
          "base_uri": "https://localhost:8080/",
          "height": 1000
        },
        "outputId": "0f77d195-7525-4f8c-c8b1-ae54d4e80945"
      },
      "source": [
        "history=model.fit(trainX, trainY, epochs=100, batch_size=1, verbose=1,shuffle=True, validation_split=0.05)\n",
        "# verbose simplemente es una forma de como queremos que salgan los epochs\n",
        "#batch size se refiere al espacio de memoria de se debe utilizar"
      ],
      "execution_count": 20,
      "outputs": [
        {
          "output_type": "stream",
          "text": [
            "Epoch 1/100\n",
            "90/90 [==============================] - 1s 6ms/step - loss: 0.0364 - val_loss: 0.0984\n",
            "Epoch 2/100\n",
            "90/90 [==============================] - 0s 2ms/step - loss: 0.0180 - val_loss: 0.0588\n",
            "Epoch 3/100\n",
            "90/90 [==============================] - 0s 2ms/step - loss: 0.0134 - val_loss: 0.0439\n",
            "Epoch 4/100\n",
            "90/90 [==============================] - 0s 2ms/step - loss: 0.0123 - val_loss: 0.0393\n",
            "Epoch 5/100\n",
            "90/90 [==============================] - 0s 2ms/step - loss: 0.0115 - val_loss: 0.0336\n",
            "Epoch 6/100\n",
            "90/90 [==============================] - 0s 2ms/step - loss: 0.0108 - val_loss: 0.0279\n",
            "Epoch 7/100\n",
            "90/90 [==============================] - 0s 2ms/step - loss: 0.0099 - val_loss: 0.0261\n",
            "Epoch 8/100\n",
            "90/90 [==============================] - 0s 2ms/step - loss: 0.0091 - val_loss: 0.0226\n",
            "Epoch 9/100\n",
            "90/90 [==============================] - 0s 2ms/step - loss: 0.0082 - val_loss: 0.0187\n",
            "Epoch 10/100\n",
            "90/90 [==============================] - 0s 2ms/step - loss: 0.0073 - val_loss: 0.0134\n",
            "Epoch 11/100\n",
            "90/90 [==============================] - 0s 2ms/step - loss: 0.0063 - val_loss: 0.0119\n",
            "Epoch 12/100\n",
            "90/90 [==============================] - 0s 2ms/step - loss: 0.0054 - val_loss: 0.0080\n",
            "Epoch 13/100\n",
            "90/90 [==============================] - 0s 2ms/step - loss: 0.0046 - val_loss: 0.0063\n",
            "Epoch 14/100\n",
            "90/90 [==============================] - 0s 2ms/step - loss: 0.0039 - val_loss: 0.0039\n",
            "Epoch 15/100\n",
            "90/90 [==============================] - 0s 2ms/step - loss: 0.0033 - val_loss: 0.0032\n",
            "Epoch 16/100\n",
            "90/90 [==============================] - 0s 2ms/step - loss: 0.0029 - val_loss: 0.0032\n",
            "Epoch 17/100\n",
            "90/90 [==============================] - 0s 2ms/step - loss: 0.0026 - val_loss: 0.0031\n",
            "Epoch 18/100\n",
            "90/90 [==============================] - 0s 2ms/step - loss: 0.0023 - val_loss: 0.0034\n",
            "Epoch 19/100\n",
            "90/90 [==============================] - 0s 2ms/step - loss: 0.0022 - val_loss: 0.0039\n",
            "Epoch 20/100\n",
            "90/90 [==============================] - 0s 2ms/step - loss: 0.0021 - val_loss: 0.0047\n",
            "Epoch 21/100\n",
            "90/90 [==============================] - 0s 3ms/step - loss: 0.0020 - val_loss: 0.0054\n",
            "Epoch 22/100\n",
            "90/90 [==============================] - 0s 2ms/step - loss: 0.0020 - val_loss: 0.0055\n",
            "Epoch 23/100\n",
            "90/90 [==============================] - 0s 2ms/step - loss: 0.0019 - val_loss: 0.0051\n",
            "Epoch 24/100\n",
            "90/90 [==============================] - 0s 2ms/step - loss: 0.0019 - val_loss: 0.0053\n",
            "Epoch 25/100\n",
            "90/90 [==============================] - 0s 2ms/step - loss: 0.0019 - val_loss: 0.0062\n",
            "Epoch 26/100\n",
            "90/90 [==============================] - 0s 2ms/step - loss: 0.0019 - val_loss: 0.0067\n",
            "Epoch 27/100\n",
            "90/90 [==============================] - 0s 2ms/step - loss: 0.0019 - val_loss: 0.0079\n",
            "Epoch 28/100\n",
            "90/90 [==============================] - 0s 2ms/step - loss: 0.0019 - val_loss: 0.0067\n",
            "Epoch 29/100\n",
            "90/90 [==============================] - 0s 2ms/step - loss: 0.0020 - val_loss: 0.0069\n",
            "Epoch 30/100\n",
            "90/90 [==============================] - 0s 2ms/step - loss: 0.0018 - val_loss: 0.0068\n",
            "Epoch 31/100\n",
            "90/90 [==============================] - 0s 2ms/step - loss: 0.0019 - val_loss: 0.0068\n",
            "Epoch 32/100\n",
            "90/90 [==============================] - 0s 2ms/step - loss: 0.0018 - val_loss: 0.0075\n",
            "Epoch 33/100\n",
            "90/90 [==============================] - 0s 2ms/step - loss: 0.0019 - val_loss: 0.0064\n",
            "Epoch 34/100\n",
            "90/90 [==============================] - 0s 2ms/step - loss: 0.0019 - val_loss: 0.0073\n",
            "Epoch 35/100\n",
            "90/90 [==============================] - 0s 2ms/step - loss: 0.0019 - val_loss: 0.0071\n",
            "Epoch 36/100\n",
            "90/90 [==============================] - 0s 2ms/step - loss: 0.0019 - val_loss: 0.0062\n",
            "Epoch 37/100\n",
            "90/90 [==============================] - 0s 2ms/step - loss: 0.0019 - val_loss: 0.0069\n",
            "Epoch 38/100\n",
            "90/90 [==============================] - 0s 2ms/step - loss: 0.0019 - val_loss: 0.0066\n",
            "Epoch 39/100\n",
            "90/90 [==============================] - 0s 2ms/step - loss: 0.0019 - val_loss: 0.0070\n",
            "Epoch 40/100\n",
            "90/90 [==============================] - 0s 2ms/step - loss: 0.0019 - val_loss: 0.0064\n",
            "Epoch 41/100\n",
            "90/90 [==============================] - 0s 2ms/step - loss: 0.0019 - val_loss: 0.0075\n",
            "Epoch 42/100\n",
            "90/90 [==============================] - 0s 2ms/step - loss: 0.0018 - val_loss: 0.0061\n",
            "Epoch 43/100\n",
            "90/90 [==============================] - 0s 2ms/step - loss: 0.0019 - val_loss: 0.0071\n",
            "Epoch 44/100\n",
            "90/90 [==============================] - 0s 2ms/step - loss: 0.0018 - val_loss: 0.0067\n",
            "Epoch 45/100\n",
            "90/90 [==============================] - 0s 2ms/step - loss: 0.0019 - val_loss: 0.0075\n",
            "Epoch 46/100\n",
            "90/90 [==============================] - 0s 2ms/step - loss: 0.0019 - val_loss: 0.0071\n",
            "Epoch 47/100\n",
            "90/90 [==============================] - 0s 2ms/step - loss: 0.0018 - val_loss: 0.0084\n",
            "Epoch 48/100\n",
            "90/90 [==============================] - 0s 2ms/step - loss: 0.0018 - val_loss: 0.0061\n",
            "Epoch 49/100\n",
            "90/90 [==============================] - 0s 2ms/step - loss: 0.0019 - val_loss: 0.0071\n",
            "Epoch 50/100\n",
            "90/90 [==============================] - 0s 2ms/step - loss: 0.0019 - val_loss: 0.0076\n",
            "Epoch 51/100\n",
            "90/90 [==============================] - 0s 2ms/step - loss: 0.0019 - val_loss: 0.0070\n",
            "Epoch 52/100\n",
            "90/90 [==============================] - 0s 2ms/step - loss: 0.0019 - val_loss: 0.0070\n",
            "Epoch 53/100\n",
            "90/90 [==============================] - 0s 2ms/step - loss: 0.0019 - val_loss: 0.0073\n",
            "Epoch 54/100\n",
            "90/90 [==============================] - 0s 2ms/step - loss: 0.0019 - val_loss: 0.0067\n",
            "Epoch 55/100\n",
            "90/90 [==============================] - 0s 2ms/step - loss: 0.0018 - val_loss: 0.0061\n",
            "Epoch 56/100\n",
            "90/90 [==============================] - 0s 2ms/step - loss: 0.0019 - val_loss: 0.0056\n",
            "Epoch 57/100\n",
            "90/90 [==============================] - 0s 2ms/step - loss: 0.0018 - val_loss: 0.0081\n",
            "Epoch 58/100\n",
            "90/90 [==============================] - 0s 2ms/step - loss: 0.0018 - val_loss: 0.0068\n",
            "Epoch 59/100\n",
            "90/90 [==============================] - 0s 2ms/step - loss: 0.0019 - val_loss: 0.0059\n",
            "Epoch 60/100\n",
            "90/90 [==============================] - 0s 2ms/step - loss: 0.0019 - val_loss: 0.0053\n",
            "Epoch 61/100\n",
            "90/90 [==============================] - 0s 2ms/step - loss: 0.0019 - val_loss: 0.0062\n",
            "Epoch 62/100\n",
            "90/90 [==============================] - 0s 2ms/step - loss: 0.0019 - val_loss: 0.0062\n",
            "Epoch 63/100\n",
            "90/90 [==============================] - 0s 2ms/step - loss: 0.0018 - val_loss: 0.0083\n",
            "Epoch 64/100\n",
            "90/90 [==============================] - 0s 2ms/step - loss: 0.0019 - val_loss: 0.0082\n",
            "Epoch 65/100\n",
            "90/90 [==============================] - 0s 2ms/step - loss: 0.0019 - val_loss: 0.0070\n",
            "Epoch 66/100\n",
            "90/90 [==============================] - 0s 2ms/step - loss: 0.0019 - val_loss: 0.0063\n",
            "Epoch 67/100\n",
            "90/90 [==============================] - 0s 2ms/step - loss: 0.0019 - val_loss: 0.0065\n",
            "Epoch 68/100\n",
            "90/90 [==============================] - 0s 2ms/step - loss: 0.0019 - val_loss: 0.0064\n",
            "Epoch 69/100\n",
            "90/90 [==============================] - 0s 2ms/step - loss: 0.0019 - val_loss: 0.0084\n",
            "Epoch 70/100\n",
            "90/90 [==============================] - 0s 2ms/step - loss: 0.0019 - val_loss: 0.0073\n",
            "Epoch 71/100\n",
            "90/90 [==============================] - 0s 2ms/step - loss: 0.0019 - val_loss: 0.0071\n",
            "Epoch 72/100\n",
            "90/90 [==============================] - 0s 2ms/step - loss: 0.0019 - val_loss: 0.0073\n",
            "Epoch 73/100\n",
            "90/90 [==============================] - 0s 2ms/step - loss: 0.0018 - val_loss: 0.0070\n",
            "Epoch 74/100\n",
            "90/90 [==============================] - 0s 2ms/step - loss: 0.0018 - val_loss: 0.0074\n",
            "Epoch 75/100\n",
            "90/90 [==============================] - 0s 2ms/step - loss: 0.0019 - val_loss: 0.0062\n",
            "Epoch 76/100\n",
            "90/90 [==============================] - 0s 2ms/step - loss: 0.0019 - val_loss: 0.0051\n",
            "Epoch 77/100\n",
            "90/90 [==============================] - 0s 2ms/step - loss: 0.0019 - val_loss: 0.0066\n",
            "Epoch 78/100\n",
            "90/90 [==============================] - 0s 2ms/step - loss: 0.0019 - val_loss: 0.0073\n",
            "Epoch 79/100\n",
            "90/90 [==============================] - 0s 2ms/step - loss: 0.0019 - val_loss: 0.0079\n",
            "Epoch 80/100\n",
            "90/90 [==============================] - 0s 2ms/step - loss: 0.0019 - val_loss: 0.0069\n",
            "Epoch 81/100\n",
            "90/90 [==============================] - 0s 2ms/step - loss: 0.0019 - val_loss: 0.0061\n",
            "Epoch 82/100\n",
            "90/90 [==============================] - 0s 2ms/step - loss: 0.0020 - val_loss: 0.0074\n",
            "Epoch 83/100\n",
            "90/90 [==============================] - 0s 2ms/step - loss: 0.0019 - val_loss: 0.0076\n",
            "Epoch 84/100\n",
            "90/90 [==============================] - 0s 2ms/step - loss: 0.0019 - val_loss: 0.0077\n",
            "Epoch 85/100\n",
            "90/90 [==============================] - 0s 2ms/step - loss: 0.0019 - val_loss: 0.0078\n",
            "Epoch 86/100\n",
            "90/90 [==============================] - 0s 2ms/step - loss: 0.0019 - val_loss: 0.0064\n",
            "Epoch 87/100\n",
            "90/90 [==============================] - 0s 2ms/step - loss: 0.0018 - val_loss: 0.0079\n",
            "Epoch 88/100\n",
            "90/90 [==============================] - 0s 2ms/step - loss: 0.0018 - val_loss: 0.0071\n",
            "Epoch 89/100\n",
            "90/90 [==============================] - 0s 2ms/step - loss: 0.0018 - val_loss: 0.0080\n",
            "Epoch 90/100\n",
            "90/90 [==============================] - 0s 2ms/step - loss: 0.0019 - val_loss: 0.0071\n",
            "Epoch 91/100\n",
            "90/90 [==============================] - 0s 2ms/step - loss: 0.0018 - val_loss: 0.0080\n",
            "Epoch 92/100\n",
            "90/90 [==============================] - 0s 2ms/step - loss: 0.0019 - val_loss: 0.0072\n",
            "Epoch 93/100\n",
            "90/90 [==============================] - 0s 2ms/step - loss: 0.0019 - val_loss: 0.0077\n",
            "Epoch 94/100\n",
            "90/90 [==============================] - 0s 2ms/step - loss: 0.0019 - val_loss: 0.0066\n",
            "Epoch 95/100\n",
            "90/90 [==============================] - 0s 2ms/step - loss: 0.0019 - val_loss: 0.0060\n",
            "Epoch 96/100\n",
            "90/90 [==============================] - 0s 2ms/step - loss: 0.0019 - val_loss: 0.0083\n",
            "Epoch 97/100\n",
            "90/90 [==============================] - 0s 2ms/step - loss: 0.0019 - val_loss: 0.0064\n",
            "Epoch 98/100\n",
            "90/90 [==============================] - 0s 2ms/step - loss: 0.0018 - val_loss: 0.0076\n",
            "Epoch 99/100\n",
            "90/90 [==============================] - 0s 2ms/step - loss: 0.0019 - val_loss: 0.0065\n",
            "Epoch 100/100\n",
            "90/90 [==============================] - 0s 2ms/step - loss: 0.0019 - val_loss: 0.0077\n"
          ],
          "name": "stdout"
        }
      ]
    },
    {
      "cell_type": "markdown",
      "metadata": {
        "id": "AtlqjZSfH8c3",
        "colab_type": "text"
      },
      "source": [
        "#grafica de la funcion de perdida\n"
      ]
    },
    {
      "cell_type": "code",
      "metadata": {
        "id": "8jUxHXdGH7q4",
        "colab_type": "code",
        "colab": {
          "base_uri": "https://localhost:8080/",
          "height": 281
        },
        "outputId": "13865c58-a2a0-4c8c-f1f0-4c88a6b9114f"
      },
      "source": [
        "plt.plot(history.history['loss'], label='train')\n",
        "plt.plot(history.history['val_loss'], label='test')\n",
        "plt.title('Funcion de perdida para Serie pasajeros')\n",
        "plt.legend();"
      ],
      "execution_count": 21,
      "outputs": [
        {
          "output_type": "display_data",
          "data": {
            "image/png": "[encoded data removed]",
            "text/plain": [
              "<Figure size 432x288 with 1 Axes>"
            ]
          },
          "metadata": {
            "tags": [],
            "needs_background": "light"
          }
        }
      ]
    },
    {
      "cell_type": "markdown",
      "metadata": {
        "id": "qeTm0jB0MOfE",
        "colab_type": "text"
      },
      "source": [
        "# predicciones"
      ]
    },
    {
      "cell_type": "code",
      "metadata": {
        "id": "X3yMh3UjUEk7",
        "colab_type": "code",
        "colab": {}
      },
      "source": [
        "# hacemos las predicciones sobre el conjunto de entreamiento de y validacion\n",
        "trainPredict = model.predict(trainX)\n",
        "testPredict = model.predict(testX)"
      ],
      "execution_count": 22,
      "outputs": []
    },
    {
      "cell_type": "code",
      "metadata": {
        "id": "QbEZtKNzSyRK",
        "colab_type": "code",
        "colab": {}
      },
      "source": [
        "# invertimos las predicciones\n",
        "trainPredict = scaler.inverse_transform(trainPredict)\n",
        "trainY = scaler.inverse_transform(trainY)\n",
        "testPredict = scaler.inverse_transform(testPredict)\n",
        "testY = scaler.inverse_transform(testY)"
      ],
      "execution_count": 23,
      "outputs": []
    },
    {
      "cell_type": "code",
      "metadata": {
        "id": "reFsDsh0L2Gr",
        "colab_type": "code",
        "colab": {
          "base_uri": "https://localhost:8080/",
          "height": 54
        },
        "outputId": "a0499fd0-6d5e-4162-e9c0-ed1716548e20"
      },
      "source": [
        "# calculamos el error rms\n",
        "import math\n",
        "from sklearn.metrics import mean_squared_error\n",
        "trainScore = math.sqrt(mean_squared_error(trainY, trainPredict))\n",
        "print('Resultado del entrenamiento: %.2f RMSE' % (trainScore))\n",
        "testScore = math.sqrt(mean_squared_error(testY, testPredict))\n",
        "print('Resultado del test: %.2f RMSE' % (testScore))"
      ],
      "execution_count": 24,
      "outputs": [
        {
          "output_type": "stream",
          "text": [
            "Resultado del entrenamiento: 23.95 RMSE\n",
            "Resultado del test: 47.88 RMSE\n"
          ],
          "name": "stdout"
        }
      ]
    },
    {
      "cell_type": "code",
      "metadata": {
        "id": "z4KWzs0gV7lZ",
        "colab_type": "code",
        "colab": {}
      },
      "source": [
        " #predicciones del entrenamiento de cambio para plotear\n",
        "trainPredictPlot = np.empty_like(dataset)\n",
        "trainPredictPlot[:, :] = np.nan\n",
        "trainPredictPlot[time_steps:len(trainPredict)+time_steps ] = trainPredict"
      ],
      "execution_count": 25,
      "outputs": []
    },
    {
      "cell_type": "code",
      "metadata": {
        "id": "mtS9hNy3WFVW",
        "colab_type": "code",
        "colab": {}
      },
      "source": [
        "# predicciones del test de cambio para plotear\n",
        "testPredictPlot = np.empty_like(dataset)\n",
        "testPredictPlot[:, :] = np.nan\n",
        "testPredictPlot[len(trainPredict)+1:len(dataset)-1, :] = testPredict"
      ],
      "execution_count": 26,
      "outputs": []
    },
    {
      "cell_type": "code",
      "metadata": {
        "id": "X13eDE_mW6Dm",
        "colab_type": "code",
        "colab": {
          "base_uri": "https://localhost:8080/",
          "height": 283
        },
        "outputId": "09e0306e-a6e2-4a0e-e34b-6221e2a3a9ab"
      },
      "source": [
        "# plot baseline and predictions\n",
        "plt.plot(scaler.inverse_transform(dataset))"
      ],
      "execution_count": 27,
      "outputs": [
        {
          "output_type": "execute_result",
          "data": {
            "text/plain": [
              "[<matplotlib.lines.Line2D at 0x7efc32354d30>]"
            ]
          },
          "metadata": {
            "tags": []
          },
          "execution_count": 27
        },
        {
          "output_type": "display_data",
          "data": {
            "image/png": "[encoded data removed]",
            "text/plain": [
              "<Figure size 432x288 with 1 Axes>"
            ]
          },
          "metadata": {
            "tags": [],
            "needs_background": "light"
          }
        }
      ]
    },
    {
      "cell_type": "markdown",
      "metadata": {
        "id": "uhCfd9q-bAt7",
        "colab_type": "text"
      },
      "source": [
        "vemos con la siguiente grafica que el modelo ajusta bastante bien , pues los datos de validacion son muy cercanos a los reales de la serie original , sin necesidad de tener en cueta estacionalidad y algun tipo de tendencia podemos ajustar en modelo a las redes neuronales artificiales LSTM"
      ]
    },
    {
      "cell_type": "code",
      "metadata": {
        "id": "zilBSlrnW84Y",
        "colab_type": "code",
        "colab": {
          "base_uri": "https://localhost:8080/",
          "height": 297
        },
        "outputId": "bedd1564-aa74-4763-c477-41b83907d95f"
      },
      "source": [
        "# ploteamos linea base y predicciones\n",
        "plt.plot(scaler.inverse_transform(dataset))\n",
        "plt.plot(trainPredictPlot,'r', linewidth = 2)\n",
        "plt.plot(testPredictPlot,'m', linewidth = 2)\n",
        "plt.legend( ('Datos', 'Prediccion datos entramiento', 'Prediccion sobre los datos de test'), loc = 'upper left')\n",
        "plt.grid(True)\n",
        "plt.title(\"Datos sobre pasajeros por mes desde 1949 a 1960\", fontsize = 15)\n",
        "plt.xlabel(\"Tiempo (nº meses)\", fontsize = 10)\n",
        "plt.ylabel(\"nº de pasajeros\", fontsize = 10)\n",
        "plt.show()\n"
      ],
      "execution_count": 28,
      "outputs": [
        {
          "output_type": "display_data",
          "data": {
            "image/png": "[encoded data removed]",
            "text/plain": [
              "<Figure size 432x288 with 1 Axes>"
            ]
          },
          "metadata": {
            "tags": [],
            "needs_background": "light"
          }
        }
      ]
    },
    {
      "cell_type": "markdown",
      "metadata": {
        "id": "Gl2Jv56UTTKs",
        "colab_type": "text"
      },
      "source": [
        "#Veamos las predicciones de cerca"
      ]
    },
    {
      "cell_type": "code",
      "metadata": {
        "id": "YyiTXkSZ7ZUU",
        "colab_type": "code",
        "colab": {}
      },
      "source": [
        "# predicciones del testY de cambio para plotear\n",
        "testYPlot = np.empty_like(dataset)\n",
        "testYPlot[:, :] = np.nan\n",
        "testYPlot[len(trainPredict)+1:len(dataset)-1, :] = testY"
      ],
      "execution_count": 29,
      "outputs": []
    },
    {
      "cell_type": "code",
      "metadata": {
        "id": "szYvFGGS4t-5",
        "colab_type": "code",
        "colab": {
          "base_uri": "https://localhost:8080/",
          "height": 299
        },
        "outputId": "00b14bfb-12ba-4c27-a6d3-c39d14202894"
      },
      "source": [
        "plt.plot(testPredictPlot,'m', linewidth=2)\n",
        "\n",
        "plt.plot(testYPlot)\n",
        "plt.legend((\"prediccion\",'Serie original'))\n",
        "plt.title('zoom de las predicciones de test')"
      ],
      "execution_count": 30,
      "outputs": [
        {
          "output_type": "execute_result",
          "data": {
            "text/plain": [
              "Text(0.5, 1.0, 'zoom de las predicciones de test')"
            ]
          },
          "metadata": {
            "tags": []
          },
          "execution_count": 30
        },
        {
          "output_type": "display_data",
          "data": {
            "image/png": "[encoded data removed]",
            "text/plain": [
              "<Figure size 432x288 with 1 Axes>"
            ]
          },
          "metadata": {
            "tags": [],
            "needs_background": "light"
          }
        }
      ]
    },
    {
      "cell_type": "code",
      "metadata": {
        "id": "JJrlzOrg6_Le",
        "colab_type": "code",
        "colab": {}
      },
      "source": [
        "print(testPredict)\n",
        "print(testY)"
      ],
      "execution_count": null,
      "outputs": []
    },
    {
      "cell_type": "markdown",
      "metadata": {
        "id": "MSiWNrclr_tu",
        "colab_type": "text"
      },
      "source": [
        "## a 12 pasos previos"
      ]
    },
    {
      "cell_type": "code",
      "metadata": {
        "id": "TLG3sABfsBP6",
        "colab_type": "code",
        "colab": {
          "base_uri": "https://localhost:8080/",
          "height": 35
        },
        "outputId": "9b99902d-14d1-4f1a-bd55-0e524e740140"
      },
      "source": [
        "time_steps=12\n",
        "# reshape to [samples, time_steps, n_features]\n",
        "\n",
        "X_train, trainY = create_dataset(train, train.values, time_steps)\n",
        "X_test, testY = create_dataset(test, test.values, time_steps)\n",
        "\n",
        "print(X_train.shape, trainY.shape)"
      ],
      "execution_count": 32,
      "outputs": [
        {
          "output_type": "stream",
          "text": [
            "(84, 12, 1) (84, 1)\n"
          ],
          "name": "stdout"
        }
      ]
    },
    {
      "cell_type": "code",
      "metadata": {
        "id": "fR6_sY6OqPqO",
        "colab_type": "code",
        "colab": {}
      },
      "source": [
        " #remodelamos la entrada para que sea[muestras, pasos de tiempo, características]\n",
        "trainX = np.reshape(X_train, (X_train.shape[0], 12, 1))\n",
        "testX = np.reshape(X_test, (X_test.shape[0], 12, 1))\n"
      ],
      "execution_count": 33,
      "outputs": []
    },
    {
      "cell_type": "code",
      "metadata": {
        "id": "FyySPS-oSc29",
        "colab_type": "code",
        "colab": {
          "base_uri": "https://localhost:8080/",
          "height": 35
        },
        "outputId": "037b6e2c-7264-4533-f387-3863b15293dd"
      },
      "source": [
        "X_train.shape[1]"
      ],
      "execution_count": 34,
      "outputs": [
        {
          "output_type": "execute_result",
          "data": {
            "text/plain": [
              "12"
            ]
          },
          "metadata": {
            "tags": []
          },
          "execution_count": 34
        }
      ]
    },
    {
      "cell_type": "code",
      "metadata": {
        "id": "-eY_RMadt8Z7",
        "colab_type": "code",
        "colab": {
          "base_uri": "https://localhost:8080/",
          "height": 1000
        },
        "outputId": "f828e957-7351-4914-9b3b-2dad145495f6"
      },
      "source": [
        "lstm_output =4 # numero de neuronas (no hay ninguna regla para la escogencia,se hace a partir del refinamiento del modelo)\n",
        "model = keras.Sequential()\n",
        "model.add(keras.layers.LSTM(units=lstm_output,  input_shape=(X_train.shape[1], X_train.shape[2])))\n",
        "model.add(keras.layers.Dense(units=1))\n",
        "X_train.shape\n",
        "\n",
        "# compilacion del modelo\n",
        "model.compile(loss='mean_squared_error',\n",
        "  optimizer=keras.optimizers.Adam(0.001)\n",
        ")\n",
        "\n",
        "# numero optimo de neuronas\n",
        "4*(lstm_output*lstm_output + lstm_output*time_steps+ lstm_output)\n",
        "\n",
        "history=model.fit(trainX, trainY, epochs=100, batch_size=1, verbose=1,shuffle=True, validation_split=0.05)\n",
        "\n"
      ],
      "execution_count": 35,
      "outputs": [
        {
          "output_type": "stream",
          "text": [
            "Epoch 1/100\n",
            "79/79 [==============================] - 1s 8ms/step - loss: 0.0323 - val_loss: 0.0453\n",
            "Epoch 2/100\n",
            "79/79 [==============================] - 0s 3ms/step - loss: 0.0092 - val_loss: 0.0227\n",
            "Epoch 3/100\n",
            "79/79 [==============================] - 0s 3ms/step - loss: 0.0078 - val_loss: 0.0190\n",
            "Epoch 4/100\n",
            "79/79 [==============================] - 0s 3ms/step - loss: 0.0066 - val_loss: 0.0141\n",
            "Epoch 5/100\n",
            "79/79 [==============================] - 0s 3ms/step - loss: 0.0056 - val_loss: 0.0122\n",
            "Epoch 6/100\n",
            "79/79 [==============================] - 0s 3ms/step - loss: 0.0048 - val_loss: 0.0107\n",
            "Epoch 7/100\n",
            "79/79 [==============================] - 0s 3ms/step - loss: 0.0045 - val_loss: 0.0096\n",
            "Epoch 8/100\n",
            "79/79 [==============================] - 0s 3ms/step - loss: 0.0041 - val_loss: 0.0096\n",
            "Epoch 9/100\n",
            "79/79 [==============================] - 0s 3ms/step - loss: 0.0039 - val_loss: 0.0096\n",
            "Epoch 10/100\n",
            "79/79 [==============================] - 0s 3ms/step - loss: 0.0038 - val_loss: 0.0103\n",
            "Epoch 11/100\n",
            "79/79 [==============================] - 0s 3ms/step - loss: 0.0036 - val_loss: 0.0095\n",
            "Epoch 12/100\n",
            "79/79 [==============================] - 0s 3ms/step - loss: 0.0041 - val_loss: 0.0099\n",
            "Epoch 13/100\n",
            "79/79 [==============================] - 0s 3ms/step - loss: 0.0038 - val_loss: 0.0104\n",
            "Epoch 14/100\n",
            "79/79 [==============================] - 0s 3ms/step - loss: 0.0037 - val_loss: 0.0096\n",
            "Epoch 15/100\n",
            "79/79 [==============================] - 0s 3ms/step - loss: 0.0038 - val_loss: 0.0096\n",
            "Epoch 16/100\n",
            "79/79 [==============================] - 0s 3ms/step - loss: 0.0036 - val_loss: 0.0105\n",
            "Epoch 17/100\n",
            "79/79 [==============================] - 0s 3ms/step - loss: 0.0036 - val_loss: 0.0097\n",
            "Epoch 18/100\n",
            "79/79 [==============================] - 0s 3ms/step - loss: 0.0036 - val_loss: 0.0098\n",
            "Epoch 19/100\n",
            "79/79 [==============================] - 0s 3ms/step - loss: 0.0036 - val_loss: 0.0091\n",
            "Epoch 20/100\n",
            "79/79 [==============================] - 0s 3ms/step - loss: 0.0038 - val_loss: 0.0095\n",
            "Epoch 21/100\n",
            "79/79 [==============================] - 0s 3ms/step - loss: 0.0036 - val_loss: 0.0092\n",
            "Epoch 22/100\n",
            "79/79 [==============================] - 0s 3ms/step - loss: 0.0036 - val_loss: 0.0091\n",
            "Epoch 23/100\n",
            "79/79 [==============================] - 0s 3ms/step - loss: 0.0034 - val_loss: 0.0094\n",
            "Epoch 24/100\n",
            "79/79 [==============================] - 0s 3ms/step - loss: 0.0036 - val_loss: 0.0098\n",
            "Epoch 25/100\n",
            "79/79 [==============================] - 0s 3ms/step - loss: 0.0035 - val_loss: 0.0088\n",
            "Epoch 26/100\n",
            "79/79 [==============================] - 0s 3ms/step - loss: 0.0034 - val_loss: 0.0110\n",
            "Epoch 27/100\n",
            "79/79 [==============================] - 0s 3ms/step - loss: 0.0035 - val_loss: 0.0114\n",
            "Epoch 28/100\n",
            "79/79 [==============================] - 0s 3ms/step - loss: 0.0035 - val_loss: 0.0096\n",
            "Epoch 29/100\n",
            "79/79 [==============================] - 0s 3ms/step - loss: 0.0034 - val_loss: 0.0093\n",
            "Epoch 30/100\n",
            "79/79 [==============================] - 0s 3ms/step - loss: 0.0033 - val_loss: 0.0096\n",
            "Epoch 31/100\n",
            "79/79 [==============================] - 0s 3ms/step - loss: 0.0036 - val_loss: 0.0111\n",
            "Epoch 32/100\n",
            "79/79 [==============================] - 0s 3ms/step - loss: 0.0035 - val_loss: 0.0104\n",
            "Epoch 33/100\n",
            "79/79 [==============================] - 0s 3ms/step - loss: 0.0031 - val_loss: 0.0082\n",
            "Epoch 34/100\n",
            "79/79 [==============================] - 0s 3ms/step - loss: 0.0035 - val_loss: 0.0091\n",
            "Epoch 35/100\n",
            "79/79 [==============================] - 0s 3ms/step - loss: 0.0034 - val_loss: 0.0092\n",
            "Epoch 36/100\n",
            "79/79 [==============================] - 0s 3ms/step - loss: 0.0034 - val_loss: 0.0103\n",
            "Epoch 37/100\n",
            "79/79 [==============================] - 0s 3ms/step - loss: 0.0034 - val_loss: 0.0085\n",
            "Epoch 38/100\n",
            "79/79 [==============================] - 0s 3ms/step - loss: 0.0032 - val_loss: 0.0078\n",
            "Epoch 39/100\n",
            "79/79 [==============================] - 0s 3ms/step - loss: 0.0031 - val_loss: 0.0089\n",
            "Epoch 40/100\n",
            "79/79 [==============================] - 0s 3ms/step - loss: 0.0032 - val_loss: 0.0101\n",
            "Epoch 41/100\n",
            "79/79 [==============================] - 0s 3ms/step - loss: 0.0031 - val_loss: 0.0079\n",
            "Epoch 42/100\n",
            "79/79 [==============================] - 0s 3ms/step - loss: 0.0030 - val_loss: 0.0073\n",
            "Epoch 43/100\n",
            "79/79 [==============================] - 0s 3ms/step - loss: 0.0032 - val_loss: 0.0086\n",
            "Epoch 44/100\n",
            "79/79 [==============================] - 0s 3ms/step - loss: 0.0030 - val_loss: 0.0079\n",
            "Epoch 45/100\n",
            "79/79 [==============================] - 0s 3ms/step - loss: 0.0031 - val_loss: 0.0079\n",
            "Epoch 46/100\n",
            "79/79 [==============================] - 0s 3ms/step - loss: 0.0029 - val_loss: 0.0092\n",
            "Epoch 47/100\n",
            "79/79 [==============================] - 0s 3ms/step - loss: 0.0031 - val_loss: 0.0084\n",
            "Epoch 48/100\n",
            "79/79 [==============================] - 0s 3ms/step - loss: 0.0030 - val_loss: 0.0069\n",
            "Epoch 49/100\n",
            "79/79 [==============================] - 0s 3ms/step - loss: 0.0030 - val_loss: 0.0089\n",
            "Epoch 50/100\n",
            "79/79 [==============================] - 0s 3ms/step - loss: 0.0029 - val_loss: 0.0075\n",
            "Epoch 51/100\n",
            "79/79 [==============================] - 0s 3ms/step - loss: 0.0029 - val_loss: 0.0078\n",
            "Epoch 52/100\n",
            "79/79 [==============================] - 0s 3ms/step - loss: 0.0028 - val_loss: 0.0065\n",
            "Epoch 53/100\n",
            "79/79 [==============================] - 0s 3ms/step - loss: 0.0027 - val_loss: 0.0062\n",
            "Epoch 54/100\n",
            "79/79 [==============================] - 0s 3ms/step - loss: 0.0030 - val_loss: 0.0073\n",
            "Epoch 55/100\n",
            "79/79 [==============================] - 0s 3ms/step - loss: 0.0027 - val_loss: 0.0064\n",
            "Epoch 56/100\n",
            "79/79 [==============================] - 0s 3ms/step - loss: 0.0026 - val_loss: 0.0073\n",
            "Epoch 57/100\n",
            "79/79 [==============================] - 0s 3ms/step - loss: 0.0025 - val_loss: 0.0049\n",
            "Epoch 58/100\n",
            "79/79 [==============================] - 0s 3ms/step - loss: 0.0027 - val_loss: 0.0048\n",
            "Epoch 59/100\n",
            "79/79 [==============================] - 0s 3ms/step - loss: 0.0024 - val_loss: 0.0045\n",
            "Epoch 60/100\n",
            "79/79 [==============================] - 0s 3ms/step - loss: 0.0026 - val_loss: 0.0046\n",
            "Epoch 61/100\n",
            "79/79 [==============================] - 0s 3ms/step - loss: 0.0022 - val_loss: 0.0041\n",
            "Epoch 62/100\n",
            "79/79 [==============================] - 0s 3ms/step - loss: 0.0022 - val_loss: 0.0056\n",
            "Epoch 63/100\n",
            "79/79 [==============================] - 0s 3ms/step - loss: 0.0023 - val_loss: 0.0034\n",
            "Epoch 64/100\n",
            "79/79 [==============================] - 0s 3ms/step - loss: 0.0022 - val_loss: 0.0037\n",
            "Epoch 65/100\n",
            "79/79 [==============================] - 0s 3ms/step - loss: 0.0021 - val_loss: 0.0028\n",
            "Epoch 66/100\n",
            "79/79 [==============================] - 0s 3ms/step - loss: 0.0025 - val_loss: 0.0037\n",
            "Epoch 67/100\n",
            "79/79 [==============================] - 0s 3ms/step - loss: 0.0024 - val_loss: 0.0057\n",
            "Epoch 68/100\n",
            "79/79 [==============================] - 0s 3ms/step - loss: 0.0020 - val_loss: 0.0035\n",
            "Epoch 69/100\n",
            "79/79 [==============================] - 0s 3ms/step - loss: 0.0020 - val_loss: 0.0026\n",
            "Epoch 70/100\n",
            "79/79 [==============================] - 0s 3ms/step - loss: 0.0022 - val_loss: 0.0026\n",
            "Epoch 71/100\n",
            "79/79 [==============================] - 0s 3ms/step - loss: 0.0020 - val_loss: 0.0028\n",
            "Epoch 72/100\n",
            "79/79 [==============================] - 0s 3ms/step - loss: 0.0018 - val_loss: 0.0028\n",
            "Epoch 73/100\n",
            "79/79 [==============================] - 0s 3ms/step - loss: 0.0017 - val_loss: 0.0022\n",
            "Epoch 74/100\n",
            "79/79 [==============================] - 0s 3ms/step - loss: 0.0018 - val_loss: 0.0022\n",
            "Epoch 75/100\n",
            "79/79 [==============================] - 0s 3ms/step - loss: 0.0015 - val_loss: 0.0020\n",
            "Epoch 76/100\n",
            "79/79 [==============================] - 0s 3ms/step - loss: 0.0016 - val_loss: 0.0017\n",
            "Epoch 77/100\n",
            "79/79 [==============================] - 0s 3ms/step - loss: 0.0014 - val_loss: 0.0022\n",
            "Epoch 78/100\n",
            "79/79 [==============================] - 0s 3ms/step - loss: 0.0015 - val_loss: 0.0022\n",
            "Epoch 79/100\n",
            "79/79 [==============================] - 0s 3ms/step - loss: 0.0016 - val_loss: 0.0015\n",
            "Epoch 80/100\n",
            "79/79 [==============================] - 0s 3ms/step - loss: 0.0013 - val_loss: 0.0025\n",
            "Epoch 81/100\n",
            "79/79 [==============================] - 0s 3ms/step - loss: 0.0013 - val_loss: 0.0015\n",
            "Epoch 82/100\n",
            "79/79 [==============================] - 0s 3ms/step - loss: 0.0012 - val_loss: 0.0024\n",
            "Epoch 83/100\n",
            "79/79 [==============================] - 0s 3ms/step - loss: 0.0014 - val_loss: 0.0076\n",
            "Epoch 84/100\n",
            "79/79 [==============================] - 0s 3ms/step - loss: 0.0014 - val_loss: 0.0015\n",
            "Epoch 85/100\n",
            "79/79 [==============================] - 0s 3ms/step - loss: 0.0012 - val_loss: 0.0054\n",
            "Epoch 86/100\n",
            "79/79 [==============================] - 0s 3ms/step - loss: 0.0011 - val_loss: 0.0017\n",
            "Epoch 87/100\n",
            "79/79 [==============================] - 0s 3ms/step - loss: 0.0013 - val_loss: 0.0013\n",
            "Epoch 88/100\n",
            "79/79 [==============================] - 0s 3ms/step - loss: 0.0012 - val_loss: 0.0041\n",
            "Epoch 89/100\n",
            "79/79 [==============================] - 0s 3ms/step - loss: 0.0013 - val_loss: 0.0015\n",
            "Epoch 90/100\n",
            "79/79 [==============================] - 0s 3ms/step - loss: 0.0012 - val_loss: 0.0018\n",
            "Epoch 91/100\n",
            "79/79 [==============================] - 0s 3ms/step - loss: 0.0012 - val_loss: 0.0016\n",
            "Epoch 92/100\n",
            "79/79 [==============================] - 0s 3ms/step - loss: 0.0012 - val_loss: 0.0033\n",
            "Epoch 93/100\n",
            "79/79 [==============================] - 0s 3ms/step - loss: 0.0011 - val_loss: 0.0022\n",
            "Epoch 94/100\n",
            "79/79 [==============================] - 0s 3ms/step - loss: 0.0011 - val_loss: 0.0017\n",
            "Epoch 95/100\n",
            "79/79 [==============================] - 0s 3ms/step - loss: 0.0012 - val_loss: 0.0019\n",
            "Epoch 96/100\n",
            "79/79 [==============================] - 0s 3ms/step - loss: 0.0010 - val_loss: 0.0026\n",
            "Epoch 97/100\n",
            "79/79 [==============================] - 0s 3ms/step - loss: 0.0012 - val_loss: 0.0045\n",
            "Epoch 98/100\n",
            "79/79 [==============================] - 0s 3ms/step - loss: 0.0011 - val_loss: 0.0030\n",
            "Epoch 99/100\n",
            "79/79 [==============================] - 0s 3ms/step - loss: 0.0011 - val_loss: 0.0035\n",
            "Epoch 100/100\n",
            "79/79 [==============================] - 0s 3ms/step - loss: 0.0012 - val_loss: 0.0037\n"
          ],
          "name": "stdout"
        }
      ]
    },
    {
      "cell_type": "code",
      "metadata": {
        "id": "5tbBLPp_uYmo",
        "colab_type": "code",
        "colab": {
          "base_uri": "https://localhost:8080/",
          "height": 281
        },
        "outputId": "ef49cfaf-60e0-4670-8949-b18f90c9667f"
      },
      "source": [
        "plt.plot(history.history['loss'], label='train')\n",
        "plt.plot(history.history['val_loss'], label='test')\n",
        "plt.title('Funcion de perdida para Serie pasajeros')\n",
        "plt.legend();"
      ],
      "execution_count": 36,
      "outputs": [
        {
          "output_type": "display_data",
          "data": {
            "image/png": "[encoded data removed]",
            "text/plain": [
              "<Figure size 432x288 with 1 Axes>"
            ]
          },
          "metadata": {
            "tags": [],
            "needs_background": "light"
          }
        }
      ]
    },
    {
      "cell_type": "code",
      "metadata": {
        "id": "FbFKxJisuZu1",
        "colab_type": "code",
        "colab": {
          "base_uri": "https://localhost:8080/",
          "height": 54
        },
        "outputId": "30572ca4-7ce2-484b-af00-338e430ea40e"
      },
      "source": [
        "# hacemos las predicciones\n",
        "trainPredict = model.predict(trainX)\n",
        "testPredict = model.predict(testX)\n",
        "\n",
        "# invertimos las predicciones\n",
        "trainPredict = scaler.inverse_transform(trainPredict)\n",
        "trainY = scaler.inverse_transform(trainY)\n",
        "testPredict = scaler.inverse_transform(testPredict)\n",
        "testY = scaler.inverse_transform(testY)\n",
        "\n",
        "# calculamos el error rms\n",
        "import math\n",
        "from sklearn.metrics import mean_squared_error\n",
        "trainScore = math.sqrt(mean_squared_error(trainY, trainPredict))\n",
        "print('Resultado del entrenamiento: %.2f RMSE' % (trainScore))\n",
        "testScore = math.sqrt(mean_squared_error(testY, testPredict))\n",
        "print('Resultado del test: %.2f RMSE' % (testScore))\n",
        "\n"
      ],
      "execution_count": 37,
      "outputs": [
        {
          "output_type": "stream",
          "text": [
            "Resultado del entrenamiento: 16.76 RMSE\n",
            "Resultado del test: 98.97 RMSE\n"
          ],
          "name": "stdout"
        }
      ]
    },
    {
      "cell_type": "code",
      "metadata": {
        "id": "4pVeRdUrcAoU",
        "colab_type": "code",
        "colab": {}
      },
      "source": [
        "#predicciones del entrenamiento de cambio para plotear\n",
        "trainPredictPlot = np.empty_like(dataset)\n",
        "trainPredictPlot[:, :] = np.nan\n",
        "trainPredictPlot[time_steps:len(trainPredict)+time_steps ] = trainPredict"
      ],
      "execution_count": 38,
      "outputs": []
    },
    {
      "cell_type": "code",
      "metadata": {
        "id": "6jEnqOGJcJWu",
        "colab_type": "code",
        "colab": {}
      },
      "source": [
        "#predicciones del test de cambio para plotear\n",
        "testPredictPlot = np.empty_like(dataset)\n",
        "testPredictPlot[:, :] = np.nan\n",
        "testPredictPlot[len(trainPredict)+12:len(dataset)-12, :] = testPredict"
      ],
      "execution_count": 39,
      "outputs": []
    },
    {
      "cell_type": "code",
      "metadata": {
        "id": "hyOiQiqzcWuN",
        "colab_type": "code",
        "colab": {
          "base_uri": "https://localhost:8080/",
          "height": 297
        },
        "outputId": "2f5e03b7-0c9e-4e66-c8f8-bd2fd2f7b521"
      },
      "source": [
        " #ploteamos linea base y predicciones\n",
        "plt.plot(scaler.inverse_transform(dataset))\n",
        "plt.plot(trainPredictPlot,'r', linewidth = 2)\n",
        "plt.plot(testPredictPlot,'m', linewidth = 2)\n",
        "plt.legend( ('Datos', 'Prediccion datos entramiento', 'Prediccion sobre los datos de test'), loc = 'upper left')\n",
        "plt.grid(True)\n",
        "plt.title(\"Datos sobre pasajeros por mes desde 1949 a 1960\", fontsize = 15)\n",
        "plt.xlabel(\"Tiempo (nº meses)\", fontsize = 10)\n",
        "plt.ylabel(\"nº de pasajeros\", fontsize = 10)\n",
        "plt.show()"
      ],
      "execution_count": 40,
      "outputs": [
        {
          "output_type": "display_data",
          "data": {
            "image/png": "[encoded data removed]",
            "text/plain": [
              "<Figure size 432x288 with 1 Axes>"
            ]
          },
          "metadata": {
            "tags": [],
            "needs_background": "light"
          }
        }
      ]
    },
    {
      "cell_type": "code",
      "metadata": {
        "id": "NWRCMl1Kcv2b",
        "colab_type": "code",
        "colab": {
          "base_uri": "https://localhost:8080/",
          "height": 299
        },
        "outputId": "de524512-e0d1-4aa1-8d60-94ee7b6c6086"
      },
      "source": [
        "# predicciones del testY de cambio para plotear\n",
        "testYPlot = np.empty_like(dataset)\n",
        "testYPlot[:, :] = np.nan\n",
        "testYPlot[len(trainPredict)+12:len(dataset)-12, :] = testY\n",
        "\n",
        "plt.plot(testPredictPlot,'m', linewidth=2)\n",
        "\n",
        "plt.plot(testYPlot)\n",
        "plt.legend((\"prediccion\",'Serie original'))\n",
        "plt.title('zoom de las predicciones de test')"
      ],
      "execution_count": 41,
      "outputs": [
        {
          "output_type": "execute_result",
          "data": {
            "text/plain": [
              "Text(0.5, 1.0, 'zoom de las predicciones de test')"
            ]
          },
          "metadata": {
            "tags": []
          },
          "execution_count": 41
        },
        {
          "output_type": "display_data",
          "data": {
            "image/png": "[encoded data removed]",
            "text/plain": [
              "<Figure size 432x288 with 1 Axes>"
            ]
          },
          "metadata": {
            "tags": [],
            "needs_background": "light"
          }
        }
      ]
    }
  ]
}