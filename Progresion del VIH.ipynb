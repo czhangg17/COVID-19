{
 "cells": [
  {
   "cell_type": "markdown",
   "metadata": {},
   "source": [
    "## Prediccion de la progression del VIH \n",
    "En este proyecto trabajaremos la base de datos de [datos-VIH](https://www.kaggle.com/c/hivprogression/data ) en el cual crearemos un programa donde predice la progresion del VIH , estimando la probabilidad de que un paciente se pueda mejorar. \n",
    "\n",
    "La base de datos contiene 6 columnas:\n",
    "1. ID del paciente\n",
    "2. estado de respuesta (\"1\" para pacientes que mejoraron y \"0\" en caso contrario)\n",
    "3. Secuencia de nucleótidos de proteasa (si está disponible)\n",
    "4. Secuencia de nucleótidos de transciptasa inversa (si está disponible)\n",
    "5. carga viral al comienzo de la terapia (unidades log-10)\n",
    "6. Recuento de CD4 al comienzo de la terapia.\n",
    "\n",
    "El estado de la variable respuesta indica si el paciente mejoró después de 16 semanas de terapia. La mejora se define como una disminución de 100 veces en la carga viral del VIH-1.\n",
    "\n",
    "Hay una breve descripción de la secuencia de nucleótidos de la proteasa, la secuencia de nucleótidos de la transciptasa inversa, la carga viral y el recuento de CD4 en la página de antecedentes.\n",
    "\n",
    "training_data.csv es el conjunto de datos de entrenamiento utilizado para calibrar su modelo.\n",
    "test_data.csv es el conjunto de datos de prueba utilizado para generar envíos.\n",
    "\n",
    "\n",
    "\n",
    "\n",
    "\n",
    "\n",
    "\n"
   ]
  }
 ],
 "metadata": {
  "kernelspec": {
   "display_name": "Python 3",
   "language": "python",
   "name": "python3"
  },
  "language_info": {
   "codemirror_mode": {
    "name": "ipython",
    "version": 3
   },
   "file_extension": ".py",
   "mimetype": "text/x-python",
   "name": "python",
   "nbconvert_exporter": "python",
   "pygments_lexer": "ipython3",
   "version": "3.7.4"
  }
 },
 "nbformat": 4,
 "nbformat_minor": 2
}
