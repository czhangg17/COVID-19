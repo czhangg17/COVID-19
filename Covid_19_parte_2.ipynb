{
  "nbformat": 4,
  "nbformat_minor": 0,
  "metadata": {
    "colab": {
      "name": "Covid-19 parte 2.ipynb",
      "provenance": [],
      "collapsed_sections": [],
      "include_colab_link": true
    },
    "kernelspec": {
      "name": "python3",
      "display_name": "Python 3"
    }
  },
  "cells": [
    {
      "cell_type": "markdown",
      "metadata": {
        "id": "view-in-github",
        "colab_type": "text"
      },
      "source": [
        "<a href=\"https://colab.research.google.com/github/czhangg17/HIV-progression/blob/master/Covid_19_parte_2.ipynb\" target=\"_parent\"><img src=\"https://colab.research.google.com/assets/colab-badge.svg\" alt=\"Open In Colab\"/></a>"
      ]
    },
    {
      "cell_type": "markdown",
      "metadata": {
        "id": "sC5SFAIxrCVj",
        "colab_type": "text"
      },
      "source": [
        "# Predicción series temporales con datos del coronavirus"
      ]
    },
    {
      "cell_type": "code",
      "metadata": {
        "id": "puTtAPqRZA5U",
        "colab_type": "code",
        "colab": {}
      },
      "source": [
        "import tensorflow as tf\n",
        "\n",
        "import matplotlib as mpl\n",
        "import matplotlib.pyplot as plt\n",
        "import numpy as np\n",
        "import os\n",
        "import pandas as pd\n",
        "import matplotlib.pylab as plt\n",
        "from tensorflow import keras\n",
        "\n",
        "from sklearn.preprocessing import MinMaxScaler\n",
        "scaler = MinMaxScaler(feature_range=(0, 1))\n",
        "\n",
        "mpl.rcParams['figure.figsize'] = (8, 6)\n",
        "mpl.rcParams['axes.grid'] = False\n",
        "\n"
      ],
      "execution_count": 1,
      "outputs": []
    },
    {
      "cell_type": "markdown",
      "metadata": {
        "id": "hw-TKc5_q_Rj",
        "colab_type": "text"
      },
      "source": [
        "# Importacion de los datos\n",
        "\n",
        "Pagina para acceso de los [datos](https://www.datos.gov.co/Salud-y-Protecci-n-Social/Casos-positivos-de-COVID-19-en-Colombia/gt2j-8ykr/data )\n",
        " en crudo\n",
        "\n"
      ]
    },
    {
      "cell_type": "code",
      "metadata": {
        "id": "v_nlxIQ-ZLxV",
        "colab_type": "code",
        "colab": {
          "base_uri": "https://localhost:8080/",
          "height": 441
        },
        "outputId": "02a55538-b0cf-4faa-a4c6-244cf8efbd02"
      },
      "source": [
        "from google.colab import drive\n",
        "PATH = '/content/drive/My Drive/Mineria de datos/datosCovid.csv' \n",
        "drive.mount('/content/drive')\n",
        "covid=pd.read_csv(PATH, header=0)\n",
        "#print(covid)  \n",
        "#covid=pd.read_excel(datosCovid.xlsx.csv)\n",
        "covid.tail()\n",
        "\n",
        "#https://www.datos.gov.co/Salud-y-Protecci-n-Social/Casos-positivos-de-COVID-19-en-Colombia/gt2j-8ykr/data"
      ],
      "execution_count": 2,
      "outputs": [
        {
          "output_type": "stream",
          "text": [
            "Go to this URL in a browser: https://accounts.google.com/o/oauth2/auth?client_id=947318989803-6bn6qk8qdgf4n4g3pfee6491hc0brc4i.apps.googleusercontent.com&redirect_uri=urn%3aietf%3awg%3aoauth%3a2.0%3aoob&response_type=code&scope=email%20https%3a%2f%2fwww.googleapis.com%2fauth%2fdocs.test%20https%3a%2f%2fwww.googleapis.com%2fauth%2fdrive%20https%3a%2f%2fwww.googleapis.com%2fauth%2fdrive.photos.readonly%20https%3a%2f%2fwww.googleapis.com%2fauth%2fpeopleapi.readonly\n",
            "\n",
            "Enter your authorization code:\n",
            "··········\n",
            "Mounted at /content/drive\n"
          ],
          "name": "stdout"
        },
        {
          "output_type": "execute_result",
          "data": {
            "text/html": [
              "<div>\n",
              "<style scoped>\n",
              "    .dataframe tbody tr th:only-of-type {\n",
              "        vertical-align: middle;\n",
              "    }\n",
              "\n",
              "    .dataframe tbody tr th {\n",
              "        vertical-align: top;\n",
              "    }\n",
              "\n",
              "    .dataframe thead th {\n",
              "        text-align: right;\n",
              "    }\n",
              "</style>\n",
              "<table border=\"1\" class=\"dataframe\">\n",
              "  <thead>\n",
              "    <tr style=\"text-align: right;\">\n",
              "      <th></th>\n",
              "      <th>ID de caso</th>\n",
              "      <th>Fecha de notificación</th>\n",
              "      <th>Código DIVIPOLA</th>\n",
              "      <th>Ciudad de ubicación</th>\n",
              "      <th>Departamento o Distrito</th>\n",
              "      <th>atención</th>\n",
              "      <th>Edad</th>\n",
              "      <th>Sexo</th>\n",
              "      <th>Tipo</th>\n",
              "      <th>Estado</th>\n",
              "      <th>País de procedencia</th>\n",
              "      <th>FIS</th>\n",
              "      <th>Fecha de muerte</th>\n",
              "      <th>Fecha diagnostico</th>\n",
              "      <th>Fecha recuperado</th>\n",
              "      <th>fecha reporte web</th>\n",
              "      <th>Tipo recuperación</th>\n",
              "      <th>Codigo departamento</th>\n",
              "      <th>Codigo pais</th>\n",
              "    </tr>\n",
              "  </thead>\n",
              "  <tbody>\n",
              "    <tr>\n",
              "      <th>57041</th>\n",
              "      <td>57082</td>\n",
              "      <td>2020-06-06T00:00:00.000</td>\n",
              "      <td>76001</td>\n",
              "      <td>Cali</td>\n",
              "      <td>Valle del Cauca</td>\n",
              "      <td>Casa</td>\n",
              "      <td>34</td>\n",
              "      <td>F</td>\n",
              "      <td>En estudio</td>\n",
              "      <td>Leve</td>\n",
              "      <td>NaN</td>\n",
              "      <td>2020-06-05T00:00:00.000</td>\n",
              "      <td>NaN</td>\n",
              "      <td>2020-06-17T00:00:00.000</td>\n",
              "      <td>NaN</td>\n",
              "      <td>2020-06-17T00:00:00.000</td>\n",
              "      <td>NaN</td>\n",
              "      <td>76</td>\n",
              "      <td>NaN</td>\n",
              "    </tr>\n",
              "    <tr>\n",
              "      <th>57042</th>\n",
              "      <td>57083</td>\n",
              "      <td>2020-06-10T00:00:00.000</td>\n",
              "      <td>76001</td>\n",
              "      <td>Cali</td>\n",
              "      <td>Valle del Cauca</td>\n",
              "      <td>Hospital</td>\n",
              "      <td>42</td>\n",
              "      <td>M</td>\n",
              "      <td>En estudio</td>\n",
              "      <td>Moderado</td>\n",
              "      <td>NaN</td>\n",
              "      <td>2020-05-31T00:00:00.000</td>\n",
              "      <td>NaN</td>\n",
              "      <td>2020-06-17T00:00:00.000</td>\n",
              "      <td>NaN</td>\n",
              "      <td>2020-06-17T00:00:00.000</td>\n",
              "      <td>NaN</td>\n",
              "      <td>76</td>\n",
              "      <td>NaN</td>\n",
              "    </tr>\n",
              "    <tr>\n",
              "      <th>57043</th>\n",
              "      <td>57084</td>\n",
              "      <td>2020-06-10T00:00:00.000</td>\n",
              "      <td>76001</td>\n",
              "      <td>Cali</td>\n",
              "      <td>Valle del Cauca</td>\n",
              "      <td>Casa</td>\n",
              "      <td>18</td>\n",
              "      <td>M</td>\n",
              "      <td>En estudio</td>\n",
              "      <td>Leve</td>\n",
              "      <td>NaN</td>\n",
              "      <td>2020-06-08T00:00:00.000</td>\n",
              "      <td>NaN</td>\n",
              "      <td>2020-06-17T00:00:00.000</td>\n",
              "      <td>NaN</td>\n",
              "      <td>2020-06-17T00:00:00.000</td>\n",
              "      <td>NaN</td>\n",
              "      <td>76</td>\n",
              "      <td>NaN</td>\n",
              "    </tr>\n",
              "    <tr>\n",
              "      <th>57044</th>\n",
              "      <td>57085</td>\n",
              "      <td>2020-06-06T00:00:00.000</td>\n",
              "      <td>8001</td>\n",
              "      <td>Barranquilla</td>\n",
              "      <td>Barranquilla D.E.</td>\n",
              "      <td>Hospital</td>\n",
              "      <td>5</td>\n",
              "      <td>M</td>\n",
              "      <td>En estudio</td>\n",
              "      <td>Moderado</td>\n",
              "      <td>NaN</td>\n",
              "      <td>2020-05-31T00:00:00.000</td>\n",
              "      <td>NaN</td>\n",
              "      <td>2020-06-17T00:00:00.000</td>\n",
              "      <td>NaN</td>\n",
              "      <td>2020-06-17T00:00:00.000</td>\n",
              "      <td>NaN</td>\n",
              "      <td>8</td>\n",
              "      <td>NaN</td>\n",
              "    </tr>\n",
              "    <tr>\n",
              "      <th>57045</th>\n",
              "      <td>57086</td>\n",
              "      <td>2020-06-09T00:00:00.000</td>\n",
              "      <td>8001</td>\n",
              "      <td>Barranquilla</td>\n",
              "      <td>Barranquilla D.E.</td>\n",
              "      <td>Casa</td>\n",
              "      <td>28</td>\n",
              "      <td>F</td>\n",
              "      <td>En estudio</td>\n",
              "      <td>Leve</td>\n",
              "      <td>NaN</td>\n",
              "      <td>2020-06-07T00:00:00.000</td>\n",
              "      <td>NaN</td>\n",
              "      <td>2020-06-16T00:00:00.000</td>\n",
              "      <td>NaN</td>\n",
              "      <td>2020-06-17T00:00:00.000</td>\n",
              "      <td>NaN</td>\n",
              "      <td>8</td>\n",
              "      <td>NaN</td>\n",
              "    </tr>\n",
              "  </tbody>\n",
              "</table>\n",
              "</div>"
            ],
            "text/plain": [
              "       ID de caso    Fecha de notificación  ...  Codigo departamento Codigo pais\n",
              "57041       57082  2020-06-06T00:00:00.000  ...                   76         NaN\n",
              "57042       57083  2020-06-10T00:00:00.000  ...                   76         NaN\n",
              "57043       57084  2020-06-10T00:00:00.000  ...                   76         NaN\n",
              "57044       57085  2020-06-06T00:00:00.000  ...                    8         NaN\n",
              "57045       57086  2020-06-09T00:00:00.000  ...                    8         NaN\n",
              "\n",
              "[5 rows x 19 columns]"
            ]
          },
          "metadata": {
            "tags": []
          },
          "execution_count": 2
        }
      ]
    },
    {
      "cell_type": "markdown",
      "metadata": {
        "id": "QJGWgcvTsyYJ",
        "colab_type": "text"
      },
      "source": [
        "# Tratamiento \n",
        "Se agrupan los datos por fecha y se seleccionan las columnas de interés. Se obtiene la siguiente tabla .\n"
      ]
    },
    {
      "cell_type": "code",
      "metadata": {
        "id": "XYwQYhpWtHN3",
        "colab_type": "code",
        "colab": {
          "base_uri": "https://localhost:8080/",
          "height": 206
        },
        "outputId": "f5ecf195-a4db-421c-9c5e-962bf1545e93"
      },
      "source": [
        "covid_multi=pd.read_excel('/content/drive/My Drive/Mineria de datos/COV.xlsx')\n",
        "covid_multi.tail()"
      ],
      "execution_count": 3,
      "outputs": [
        {
          "output_type": "execute_result",
          "data": {
            "text/html": [
              "<div>\n",
              "<style scoped>\n",
              "    .dataframe tbody tr th:only-of-type {\n",
              "        vertical-align: middle;\n",
              "    }\n",
              "\n",
              "    .dataframe tbody tr th {\n",
              "        vertical-align: top;\n",
              "    }\n",
              "\n",
              "    .dataframe thead th {\n",
              "        text-align: right;\n",
              "    }\n",
              "</style>\n",
              "<table border=\"1\" class=\"dataframe\">\n",
              "  <thead>\n",
              "    <tr style=\"text-align: right;\">\n",
              "      <th></th>\n",
              "      <th>fecha</th>\n",
              "      <th>total_casos</th>\n",
              "      <th>total_muertes</th>\n",
              "      <th>total_recuperados</th>\n",
              "    </tr>\n",
              "  </thead>\n",
              "  <tbody>\n",
              "    <tr>\n",
              "      <th>101</th>\n",
              "      <td>2020-06-14</td>\n",
              "      <td>49335</td>\n",
              "      <td>1606</td>\n",
              "      <td>NaN</td>\n",
              "    </tr>\n",
              "    <tr>\n",
              "      <th>102</th>\n",
              "      <td>2020-06-15</td>\n",
              "      <td>51459</td>\n",
              "      <td>1665</td>\n",
              "      <td>NaN</td>\n",
              "    </tr>\n",
              "    <tr>\n",
              "      <th>103</th>\n",
              "      <td>2020-06-16</td>\n",
              "      <td>53327</td>\n",
              "      <td>1740</td>\n",
              "      <td>NaN</td>\n",
              "    </tr>\n",
              "    <tr>\n",
              "      <th>104</th>\n",
              "      <td>2020-06-17</td>\n",
              "      <td>55442</td>\n",
              "      <td>1803</td>\n",
              "      <td>NaN</td>\n",
              "    </tr>\n",
              "    <tr>\n",
              "      <th>105</th>\n",
              "      <td>2020-06-18</td>\n",
              "      <td>58613</td>\n",
              "      <td>1889</td>\n",
              "      <td>22680.0</td>\n",
              "    </tr>\n",
              "  </tbody>\n",
              "</table>\n",
              "</div>"
            ],
            "text/plain": [
              "         fecha  total_casos  total_muertes  total_recuperados\n",
              "101 2020-06-14        49335           1606                NaN\n",
              "102 2020-06-15        51459           1665                NaN\n",
              "103 2020-06-16        53327           1740                NaN\n",
              "104 2020-06-17        55442           1803                NaN\n",
              "105 2020-06-18        58613           1889            22680.0"
            ]
          },
          "metadata": {
            "tags": []
          },
          "execution_count": 3
        }
      ]
    },
    {
      "cell_type": "code",
      "metadata": {
        "id": "WBisBHiAZV9U",
        "colab_type": "code",
        "colab": {}
      },
      "source": [
        "#medidas descriptivas para datos en crudo\n",
        "df=covid\n",
        "df.describe()"
      ],
      "execution_count": null,
      "outputs": []
    },
    {
      "cell_type": "code",
      "metadata": {
        "id": "WGDa7ePwDq3J",
        "colab_type": "code",
        "colab": {}
      },
      "source": [
        "\n",
        "df_diarios=pd.crosstab(df['Fecha de notificación'], columns='count')\n",
        "df_acumulados=np.cumsum(df_diarios)"
      ],
      "execution_count": 5,
      "outputs": []
    },
    {
      "cell_type": "code",
      "metadata": {
        "id": "2DDORNRCTo2b",
        "colab_type": "code",
        "colab": {
          "base_uri": "https://localhost:8080/",
          "height": 238
        },
        "outputId": "f7153984-0ed8-45e8-bc1f-1ff652948c0c"
      },
      "source": [
        "df_diarios.index=pd.to_datetime(df_diarios.index)\n",
        "df_acumulados.index=pd.to_datetime(df_acumulados.index)\n",
        "df_diarios.tail()"
      ],
      "execution_count": 6,
      "outputs": [
        {
          "output_type": "execute_result",
          "data": {
            "text/html": [
              "<div>\n",
              "<style scoped>\n",
              "    .dataframe tbody tr th:only-of-type {\n",
              "        vertical-align: middle;\n",
              "    }\n",
              "\n",
              "    .dataframe tbody tr th {\n",
              "        vertical-align: top;\n",
              "    }\n",
              "\n",
              "    .dataframe thead th {\n",
              "        text-align: right;\n",
              "    }\n",
              "</style>\n",
              "<table border=\"1\" class=\"dataframe\">\n",
              "  <thead>\n",
              "    <tr style=\"text-align: right;\">\n",
              "      <th>col_0</th>\n",
              "      <th>count</th>\n",
              "    </tr>\n",
              "    <tr>\n",
              "      <th>Fecha de notificación</th>\n",
              "      <th></th>\n",
              "    </tr>\n",
              "  </thead>\n",
              "  <tbody>\n",
              "    <tr>\n",
              "      <th>2020-06-12</th>\n",
              "      <td>1056</td>\n",
              "    </tr>\n",
              "    <tr>\n",
              "      <th>2020-06-13</th>\n",
              "      <td>686</td>\n",
              "    </tr>\n",
              "    <tr>\n",
              "      <th>2020-06-14</th>\n",
              "      <td>403</td>\n",
              "    </tr>\n",
              "    <tr>\n",
              "      <th>2020-06-15</th>\n",
              "      <td>157</td>\n",
              "    </tr>\n",
              "    <tr>\n",
              "      <th>2020-06-16</th>\n",
              "      <td>106</td>\n",
              "    </tr>\n",
              "  </tbody>\n",
              "</table>\n",
              "</div>"
            ],
            "text/plain": [
              "col_0                  count\n",
              "Fecha de notificación       \n",
              "2020-06-12              1056\n",
              "2020-06-13               686\n",
              "2020-06-14               403\n",
              "2020-06-15               157\n",
              "2020-06-16               106"
            ]
          },
          "metadata": {
            "tags": []
          },
          "execution_count": 6
        }
      ]
    },
    {
      "cell_type": "code",
      "metadata": {
        "id": "Gv2QMMqtSaL-",
        "colab_type": "code",
        "colab": {
          "base_uri": "https://localhost:8080/",
          "height": 300
        },
        "outputId": "41bed22c-96ee-4663-e816-c4a32c4f999d"
      },
      "source": [
        "plt.plot(df_diarios)\n",
        "plt.title('Grafica Casos diarios en Colombia')\n"
      ],
      "execution_count": 7,
      "outputs": [
        {
          "output_type": "execute_result",
          "data": {
            "text/plain": [
              "Text(0.5, 1.0, 'Grafica Casos diarios en Colombia')"
            ]
          },
          "metadata": {
            "tags": []
          },
          "execution_count": 7
        },
        {
          "output_type": "display_data",
          "data": {
            "image/png": "[encoded data removed]",
            "text/plain": [
              "<Figure size 432x288 with 1 Axes>"
            ]
          },
          "metadata": {
            "tags": [],
            "needs_background": "light"
          }
        }
      ]
    },
    {
      "cell_type": "code",
      "metadata": {
        "id": "moDn-ctYVARP",
        "colab_type": "code",
        "colab": {
          "base_uri": "https://localhost:8080/",
          "height": 300
        },
        "outputId": "3b5c687d-4682-4053-8d0b-8748f6b5c1a8"
      },
      "source": [
        "plt.plot(df_acumulados)\n",
        "plt.title('Casos Acumulados en Colombia')"
      ],
      "execution_count": 8,
      "outputs": [
        {
          "output_type": "execute_result",
          "data": {
            "text/plain": [
              "Text(0.5, 1.0, 'Casos Acumulados en Colombia')"
            ]
          },
          "metadata": {
            "tags": []
          },
          "execution_count": 8
        },
        {
          "output_type": "display_data",
          "data": {
            "image/png": "[encoded data removed]",
            "text/plain": [
              "<Figure size 432x288 with 1 Axes>"
            ]
          },
          "metadata": {
            "tags": [],
            "needs_background": "light"
          }
        }
      ]
    },
    {
      "cell_type": "markdown",
      "metadata": {
        "id": "M5QPRSkBMC-K",
        "colab_type": "text"
      },
      "source": [
        "# Red LSTM con datos diarios\n"
      ]
    },
    {
      "cell_type": "code",
      "metadata": {
        "id": "02EIa8znb6y_",
        "colab_type": "code",
        "colab": {}
      },
      "source": [
        "np.random.seed(7)"
      ],
      "execution_count": 38,
      "outputs": []
    },
    {
      "cell_type": "code",
      "metadata": {
        "id": "swUoJg62ZZzi",
        "colab_type": "code",
        "colab": {}
      },
      "source": [
        "def univariate_data(dataset, start_index, end_index, history_size, target_size):\n",
        "  data = []\n",
        "  labels = []\n",
        "\n",
        "  start_index = start_index + history_size\n",
        "  if end_index is None:\n",
        "    end_index = len(dataset) - target_size\n",
        "\n",
        "  for i in range(start_index, end_index):\n",
        "    indices = range(i-history_size, i)\n",
        "    # Reshape data from (history_size,) to (history_size, 1)\n",
        "    data.append(np.reshape(dataset[indices], (history_size, 1)))\n",
        "    labels.append(dataset[i+target_size])\n",
        "  return np.array(data), np.array(labels)"
      ],
      "execution_count": 39,
      "outputs": []
    },
    {
      "cell_type": "code",
      "metadata": {
        "id": "DAN6kjdwwUwn",
        "colab_type": "code",
        "colab": {}
      },
      "source": [
        "# esta funcion nos permite poner en una matriz los datos que se encuentrar en un vector\n",
        "def create_dataset(X, y, time_steps=1):\n",
        "    Xs, ys = [], []\n",
        "    for i in range(len(X) - time_steps):\n",
        "        v = X.iloc[i:(i + time_steps)].values\n",
        "        Xs.append(v)\n",
        "        ys.append(y[i + time_steps])\n",
        "    return np.array(Xs), np.array(ys)\n",
        "# semilla aleatoria para reproducibilidad\n",
        "np.random.seed(7)"
      ],
      "execution_count": 40,
      "outputs": []
    },
    {
      "cell_type": "markdown",
      "metadata": {
        "id": "wJzlVN_fWKfz",
        "colab_type": "text"
      },
      "source": [
        "## Reescalamiento de los datos\n"
      ]
    },
    {
      "cell_type": "code",
      "metadata": {
        "id": "HNywZgMuF3dX",
        "colab_type": "code",
        "colab": {}
      },
      "source": [
        "#normalizacion de los datos\n",
        "diarios=df_diarios.values\n",
        "dataset_scaled = scaler.fit_transform(diarios)\n",
        "dataset=pd.DataFrame(dataset_scaled)\n",
        "dataset.index=df_diarios.index\n",
        "\n",
        "#diarios=scaler.fit_transform(diarios)\n"
      ],
      "execution_count": 41,
      "outputs": []
    },
    {
      "cell_type": "code",
      "metadata": {
        "id": "ZpG1gBVkWN-J",
        "colab_type": "code",
        "colab": {
          "base_uri": "https://localhost:8080/",
          "height": 36
        },
        "outputId": "250d42d1-1ed5-45c3-863c-60fa77c3fc81"
      },
      "source": [
        "train_size = int(len(dataset) * 0.8)\n",
        "test_size = len(dataset) - train_size\n",
        "train, test = dataset.iloc[0:train_size], dataset.iloc[train_size:len(df)]\n",
        "len_train = len(train)\n",
        "len_test = len(test)\n",
        "print(len_train, len_test)\n"
      ],
      "execution_count": 42,
      "outputs": [
        {
          "output_type": "stream",
          "text": [
            "84 21\n"
          ],
          "name": "stdout"
        }
      ]
    },
    {
      "cell_type": "code",
      "metadata": {
        "id": "GhLvEkzyV0uo",
        "colab_type": "code",
        "colab": {
          "base_uri": "https://localhost:8080/",
          "height": 394
        },
        "outputId": "056cc15f-a738-4137-8014-760091332197"
      },
      "source": [
        "plt.figure(figsize=(16,8))\n",
        "plt.plot(df_diarios[:len_train], label='Conjunto de entrenamiento (Training set): ' + str(len_train) +' puntos (80%)')\n",
        "plt.plot(df_diarios['count'][len_train-1:], label='Conjunto de Validación (Validation set): '  + str(len_test) + ' puntos (20%)') \n",
        "plt.title(\"Serie de tiempo Casos diarios\", size = 20)\n",
        "plt.legend()\n",
        "plt.show()"
      ],
      "execution_count": 43,
      "outputs": [
        {
          "output_type": "display_data",
          "data": {
            "image/png": "[encoded data removed]",
            "text/plain": [
              "<Figure size 1152x576 with 1 Axes>"
            ]
          },
          "metadata": {
            "tags": [],
            "needs_background": "light"
          }
        }
      ]
    },
    {
      "cell_type": "markdown",
      "metadata": {
        "id": "jztZrNK4wfnK",
        "colab_type": "text"
      },
      "source": [
        "#prediccion del dato atpico\n",
        "Exisite un dato atipico en alguna fecha, haremos la prediccion de este dato\n",
        "\n",
        "(falta)"
      ]
    },
    {
      "cell_type": "code",
      "metadata": {
        "id": "UzEZ-vsZap7K",
        "colab_type": "code",
        "colab": {}
      },
      "source": [
        "#preparando los datos\n",
        "time_steps = 1\n",
        "\n",
        "# reshape to [samples, time_steps, n_features]\n",
        "\n",
        "X_train, trainY = create_dataset(train, train.values, time_steps)\n",
        "X_test, testY = create_dataset(test, test.values, time_steps)\n"
      ],
      "execution_count": 44,
      "outputs": []
    },
    {
      "cell_type": "code",
      "metadata": {
        "id": "iJ4J3PXiat7k",
        "colab_type": "code",
        "colab": {
          "base_uri": "https://localhost:8080/",
          "height": 36
        },
        "outputId": "b4f94d3c-511b-4fba-8eb9-2a835cca04de"
      },
      "source": [
        "print(X_train.shape, trainY.shape)"
      ],
      "execution_count": 45,
      "outputs": [
        {
          "output_type": "stream",
          "text": [
            "(83, 1, 1) (83, 1)\n"
          ],
          "name": "stdout"
        }
      ]
    },
    {
      "cell_type": "code",
      "metadata": {
        "id": "nV6agMuwa1oG",
        "colab_type": "code",
        "colab": {}
      },
      "source": [
        "lstm_output =60\n",
        "model = keras.Sequential()\n",
        "model.add(keras.layers.LSTM(units=lstm_output,  input_shape=(X_train.shape[1], X_train.shape[2])))\n",
        "model.add(keras.layers.Dense(units=1))"
      ],
      "execution_count": 54,
      "outputs": []
    },
    {
      "cell_type": "markdown",
      "metadata": {
        "id": "QcMmJVJNcI9K",
        "colab_type": "text"
      },
      "source": [
        ""
      ]
    },
    {
      "cell_type": "code",
      "metadata": {
        "id": "IZu9GQBva7zh",
        "colab_type": "code",
        "colab": {}
      },
      "source": [
        "model.compile(loss='mean_squared_error',\n",
        "  optimizer=keras.optimizers.Adam(0.01)\n",
        ")"
      ],
      "execution_count": 55,
      "outputs": []
    },
    {
      "cell_type": "code",
      "metadata": {
        "id": "vYUA962qbA4k",
        "colab_type": "code",
        "colab": {
          "base_uri": "https://localhost:8080/",
          "height": 240
        },
        "outputId": "78041736-cf63-4b94-810b-36da72800541"
      },
      "source": [
        "model.summary()"
      ],
      "execution_count": 56,
      "outputs": [
        {
          "output_type": "stream",
          "text": [
            "Model: \"sequential_3\"\n",
            "_________________________________________________________________\n",
            "Layer (type)                 Output Shape              Param #   \n",
            "=================================================================\n",
            "lstm_3 (LSTM)                (None, 60)                14880     \n",
            "_________________________________________________________________\n",
            "dense_3 (Dense)              (None, 1)                 61        \n",
            "=================================================================\n",
            "Total params: 14,941\n",
            "Trainable params: 14,941\n",
            "Non-trainable params: 0\n",
            "_________________________________________________________________\n"
          ],
          "name": "stdout"
        }
      ]
    },
    {
      "cell_type": "code",
      "metadata": {
        "id": "QscSyrYabE_-",
        "colab_type": "code",
        "colab": {
          "base_uri": "https://localhost:8080/",
          "height": 1000
        },
        "outputId": "b93fb312-0104-42f4-a02e-e7bf6f575aa9"
      },
      "source": [
        "history = model.fit(\n",
        "    X_train, trainY,\n",
        "    epochs=30,\n",
        "    batch_size=32,\n",
        "    validation_split=0.01,\n",
        "    verbose=1,\n",
        "    shuffle=False\n",
        ")"
      ],
      "execution_count": 57,
      "outputs": [
        {
          "output_type": "stream",
          "text": [
            "Epoch 1/30\n",
            "3/3 [==============================] - 0s 118ms/step - loss: 0.0611 - val_loss: 0.2731\n",
            "Epoch 2/30\n",
            "3/3 [==============================] - 0s 12ms/step - loss: 0.0331 - val_loss: 0.1530\n",
            "Epoch 3/30\n",
            "3/3 [==============================] - 0s 11ms/step - loss: 0.0253 - val_loss: 0.0760\n",
            "Epoch 4/30\n",
            "3/3 [==============================] - 0s 11ms/step - loss: 0.0294 - val_loss: 0.0377\n",
            "Epoch 5/30\n",
            "3/3 [==============================] - 0s 11ms/step - loss: 0.0345 - val_loss: 0.0239\n",
            "Epoch 6/30\n",
            "3/3 [==============================] - 0s 11ms/step - loss: 0.0335 - val_loss: 0.0220\n",
            "Epoch 7/30\n",
            "3/3 [==============================] - 0s 11ms/step - loss: 0.0278 - val_loss: 0.0251\n",
            "Epoch 8/30\n",
            "3/3 [==============================] - 0s 11ms/step - loss: 0.0216 - val_loss: 0.0284\n",
            "Epoch 9/30\n",
            "3/3 [==============================] - 0s 10ms/step - loss: 0.0168 - val_loss: 0.0283\n",
            "Epoch 10/30\n",
            "3/3 [==============================] - 0s 11ms/step - loss: 0.0134 - val_loss: 0.0230\n",
            "Epoch 11/30\n",
            "3/3 [==============================] - 0s 11ms/step - loss: 0.0107 - val_loss: 0.0144\n",
            "Epoch 12/30\n",
            "3/3 [==============================] - 0s 11ms/step - loss: 0.0086 - val_loss: 0.0059\n",
            "Epoch 13/30\n",
            "3/3 [==============================] - 0s 12ms/step - loss: 0.0071 - val_loss: 8.9473e-04\n",
            "Epoch 14/30\n",
            "3/3 [==============================] - 0s 13ms/step - loss: 0.0062 - val_loss: 1.2133e-04\n",
            "Epoch 15/30\n",
            "3/3 [==============================] - 0s 11ms/step - loss: 0.0056 - val_loss: 0.0015\n",
            "Epoch 16/30\n",
            "3/3 [==============================] - 0s 11ms/step - loss: 0.0049 - val_loss: 0.0027\n",
            "Epoch 17/30\n",
            "3/3 [==============================] - 0s 12ms/step - loss: 0.0043 - val_loss: 0.0032\n",
            "Epoch 18/30\n",
            "3/3 [==============================] - 0s 11ms/step - loss: 0.0039 - val_loss: 0.0035\n",
            "Epoch 19/30\n",
            "3/3 [==============================] - 0s 11ms/step - loss: 0.0039 - val_loss: 0.0044\n",
            "Epoch 20/30\n",
            "3/3 [==============================] - 0s 11ms/step - loss: 0.0040 - val_loss: 0.0060\n",
            "Epoch 21/30\n",
            "3/3 [==============================] - 0s 11ms/step - loss: 0.0039 - val_loss: 0.0077\n",
            "Epoch 22/30\n",
            "3/3 [==============================] - 0s 11ms/step - loss: 0.0039 - val_loss: 0.0085\n",
            "Epoch 23/30\n",
            "3/3 [==============================] - 0s 13ms/step - loss: 0.0039 - val_loss: 0.0078\n",
            "Epoch 24/30\n",
            "3/3 [==============================] - 0s 11ms/step - loss: 0.0038 - val_loss: 0.0062\n",
            "Epoch 25/30\n",
            "3/3 [==============================] - 0s 11ms/step - loss: 0.0038 - val_loss: 0.0048\n",
            "Epoch 26/30\n",
            "3/3 [==============================] - 0s 11ms/step - loss: 0.0038 - val_loss: 0.0039\n",
            "Epoch 27/30\n",
            "3/3 [==============================] - 0s 12ms/step - loss: 0.0038 - val_loss: 0.0035\n",
            "Epoch 28/30\n",
            "3/3 [==============================] - 0s 12ms/step - loss: 0.0038 - val_loss: 0.0034\n",
            "Epoch 29/30\n",
            "3/3 [==============================] - 0s 16ms/step - loss: 0.0038 - val_loss: 0.0034\n",
            "Epoch 30/30\n",
            "3/3 [==============================] - 0s 12ms/step - loss: 0.0038 - val_loss: 0.0032\n"
          ],
          "name": "stdout"
        }
      ]
    },
    {
      "cell_type": "code",
      "metadata": {
        "id": "RdMSHptDbaVO",
        "colab_type": "code",
        "colab": {
          "base_uri": "https://localhost:8080/",
          "height": 265
        },
        "outputId": "c4dabd58-de03-4d44-d374-0f17b2edec91"
      },
      "source": [
        "plt.plot(history.history['loss'], label='train')\n",
        "plt.plot(history.history['val_loss'], label='test')\n",
        "plt.legend();"
      ],
      "execution_count": 58,
      "outputs": [
        {
          "output_type": "display_data",
          "data": {
            "image/png": "[encoded data removed]",
            "text/plain": [
              "<Figure size 432x288 with 1 Axes>"
            ]
          },
          "metadata": {
            "tags": [],
            "needs_background": "light"
          }
        }
      ]
    },
    {
      "cell_type": "code",
      "metadata": {
        "id": "Buc6FXAUdOtf",
        "colab_type": "code",
        "colab": {}
      },
      "source": [
        "y_pred = model.predict(X_test)\n",
        "x_pred=model.predict(X_train)"
      ],
      "execution_count": 77,
      "outputs": []
    },
    {
      "cell_type": "code",
      "metadata": {
        "id": "xQ-s93sSzjQX",
        "colab_type": "code",
        "colab": {
          "base_uri": "https://localhost:8080/",
          "height": 36
        },
        "outputId": "7ac15e39-0df0-4106-f893-ca2f935c6673"
      },
      "source": [
        "\n",
        "\n",
        "\n",
        "# remodelamos la entrada para que sea[muestras, pasos de tiempo, características]\n",
        "#trainX = np.reshape(X_train, (X_train.shape[0], 1, X_train.shape[1]))\n",
        "#testX = np.reshape(X_test, (X_test.shape[0], 1, X_test.shape[1]))\n",
        "\n",
        "#lstm_output =60# como se escoge esta cantidad de outputs\n",
        "#model = keras.Sequential()\n",
        "#model.add(keras.layers.LSTM(units=lstm_output,  input_shape=(X_train.shape[1], X_train.shape[2])))\n",
        "#model.add(keras.layers.Dense(units=1))\n",
        "\n",
        "#compilacion del modelo\n",
        "#model.compile(loss='mean_squared_error',\n",
        "#  optimizer=keras.optimizers.Adam(0.01)\n",
        "#)\n"
      ],
      "execution_count": null,
      "outputs": [
        {
          "output_type": "stream",
          "text": [
            "(83, 1, 1) (83, 1)\n"
          ],
          "name": "stdout"
        }
      ]
    },
    {
      "cell_type": "code",
      "metadata": {
        "id": "k262UC0yiU_S",
        "colab_type": "code",
        "colab": {}
      },
      "source": [
        "def show_plot(plot_data, delta, title):\n",
        "  labels = ['Historia', 'Futuro Verdadero' , 'Predicción del Modelo']\n",
        "  marker = ['.-', 'rx', 'go']\n",
        "  time_steps = create_time_steps(plot_data[0].shape[0])\n",
        "  if delta:\n",
        "    future = delta\n",
        "  else:\n",
        "    future = 0\n",
        "\n",
        "  plt.title(title)\n",
        "  for i, x in enumerate(plot_data):\n",
        "    if i:\n",
        "      plt.plot(future, plot_data[i], marker[i], markersize=10,\n",
        "               label=labels[i])\n",
        "    else:\n",
        "      plt.plot(time_steps, plot_data[i].flatten(), marker[i], label=labels[i])\n",
        "  plt.legend()\n",
        "  plt.xlim([time_steps[0], (future+5)*2])\n",
        "  plt.xlabel('Salto de tiempo (Time-Step)')\n",
        "  return plt"
      ],
      "execution_count": 59,
      "outputs": []
    },
    {
      "cell_type": "code",
      "metadata": {
        "id": "zKKdl9Iy1-qo",
        "colab_type": "code",
        "colab": {
          "base_uri": "https://localhost:8080/",
          "height": 279
        },
        "outputId": "5d661de3-d3e3-478d-9e26-0a0cc66ca0d4"
      },
      "source": [
        "plt.plot(np.arange(0, len(trainY)), trainY, 'g', label=\"history\")\n",
        "plt.plot(np.arange(len(trainY), len(trainY) + len(testY)), testY, marker='.', label=\"true\")\n",
        "plt.plot(np.arange(len(trainY), len(trainY) + len(testY)), y_pred, 'r', label=\"prediction\")\n",
        "plt.ylabel('Value')\n",
        "plt.xlabel('Tiempo en dias')\n",
        "plt.legend()\n",
        "plt.show();"
      ],
      "execution_count": 69,
      "outputs": [
        {
          "output_type": "display_data",
          "data": {
            "image/png": "[encoded data removed]",
            "text/plain": [
              "<Figure size 432x288 with 1 Axes>"
            ]
          },
          "metadata": {
            "tags": [],
            "needs_background": "light"
          }
        }
      ]
    },
    {
      "cell_type": "code",
      "metadata": {
        "id": "HXB-q9_3dwm-",
        "colab_type": "code",
        "colab": {
          "base_uri": "https://localhost:8080/",
          "height": 295
        },
        "outputId": "8d0c030b-cfac-43e3-8f6e-34dca48be46a"
      },
      "source": [
        "plt.plot(testY, marker='.', label=\"true\")\n",
        "plt.plot(y_pred, 'r', label=\"prediction\")\n",
        "plt.ylabel('Value')\n",
        "plt.xlabel('Moelo a esos pasos')\n",
        "plt.legend()\n",
        "plt.title('prediccion de los valores test')\n",
        "plt.show();"
      ],
      "execution_count": 72,
      "outputs": [
        {
          "output_type": "display_data",
          "data": {
            "image/png": "[encoded data removed]",
            "text/plain": [
              "<Figure size 432x288 with 1 Axes>"
            ]
          },
          "metadata": {
            "tags": [],
            "needs_background": "light"
          }
        }
      ]
    },
    {
      "cell_type": "markdown",
      "metadata": {
        "id": "iwGL72FFeT5Q",
        "colab_type": "text"
      },
      "source": [
        "#transformcion a la escala original"
      ]
    },
    {
      "cell_type": "code",
      "metadata": {
        "id": "zJBtyssieWh_",
        "colab_type": "code",
        "colab": {}
      },
      "source": [
        "scaled_data = scaler.fit_transform(df_diarios.values)\n",
        "dataset = pd.DataFrame(scaled_data)\n",
        "dataset.columns = ['count']\n",
        "dataset.index = df_diarios.index"
      ],
      "execution_count": 73,
      "outputs": []
    },
    {
      "cell_type": "code",
      "metadata": {
        "id": "7lmEquHZeiJ5",
        "colab_type": "code",
        "colab": {
          "base_uri": "https://localhost:8080/",
          "height": 36
        },
        "outputId": "cc27e6f9-83e3-4e20-928b-1052ef4cf243"
      },
      "source": [
        "y_pred=scaler.inverse_transform(y_pred)\n",
        "y_test=scaler.inverse_transform(testY.reshape(-1,1))\n",
        "y_pred.shape"
      ],
      "execution_count": 74,
      "outputs": [
        {
          "output_type": "execute_result",
          "data": {
            "text/plain": [
              "(20, 1)"
            ]
          },
          "metadata": {
            "tags": []
          },
          "execution_count": 74
        }
      ]
    },
    {
      "cell_type": "code",
      "metadata": {
        "id": "u_bEBvdOfssb",
        "colab_type": "code",
        "colab": {
          "base_uri": "https://localhost:8080/",
          "height": 36
        },
        "outputId": "94b51a02-b425-40f1-feca-a0cdb7791c52"
      },
      "source": [
        "x_pred=scaler.inverse_transform(x_pred)\n",
        "x_test=scaler.inverse_transform(X_train.reshape(-1,1))\n",
        "x_pred.shape"
      ],
      "execution_count": 78,
      "outputs": [
        {
          "output_type": "execute_result",
          "data": {
            "text/plain": [
              "(83, 1)"
            ]
          },
          "metadata": {
            "tags": []
          },
          "execution_count": 78
        }
      ]
    },
    {
      "cell_type": "code",
      "metadata": {
        "id": "HLlXgEIDe3mC",
        "colab_type": "code",
        "colab": {
          "base_uri": "https://localhost:8080/",
          "height": 281
        },
        "outputId": "fef775dc-2c11-49d8-8a0f-ee57dfdffbc6"
      },
      "source": [
        "plt.plot(y_test, marker='.', label=\"true\")\n",
        "plt.plot(y_pred, 'r', label=\"prediction\")\n",
        "plt.ylabel('Value')\n",
        "plt.xlabel('Time Step')\n",
        "plt.legend()\n",
        "plt.show();"
      ],
      "execution_count": 75,
      "outputs": [
        {
          "output_type": "display_data",
          "data": {
            "image/png": "[encoded data removed]",
            "text/plain": [
              "<Figure size 432x288 with 1 Axes>"
            ]
          },
          "metadata": {
            "tags": [],
            "needs_background": "light"
          }
        }
      ]
    },
    {
      "cell_type": "code",
      "metadata": {
        "id": "xcWpAqtVe7df",
        "colab_type": "code",
        "colab": {}
      },
      "source": [
        "import math\n",
        "from sklearn.metrics import mean_squared_error\n",
        "trainScore = math.sqrt(mean_squared_error(trainPredict, testPredict))\n",
        "print('Resultado del entrenamiento: %.2f RMSE' % (trainScore))\n",
        "testScore = math.sqrt(mean_squared_error(y_test, y_pred))\n",
        "print('Resultado del test: %.2f RMSE' % (testScore))"
      ],
      "execution_count": null,
      "outputs": []
    },
    {
      "cell_type": "code",
      "metadata": {
        "id": "-yl2cQ6ccBVy",
        "colab_type": "code",
        "colab": {
          "base_uri": "https://localhost:8080/",
          "height": 54
        },
        "outputId": "8824ab12-a287-4009-dd8e-8bfb4d72f1fb"
      },
      "source": [
        "# calculemos el error rms\n",
        "import math\n",
        "from sklearn.metrics import mean_squared_error\n",
        "trainScore = math.sqrt(mean_squared_error(x_test,x_pred))\n",
        "print('Resultado del entrenamiento: %.2f RMSE' % (trainScore))\n",
        "testScore = math.sqrt(mean_squared_error(testY, y_pred))\n",
        "print('Resultado del test: %.2f RMSE' % (testScore))"
      ],
      "execution_count": 81,
      "outputs": [
        {
          "output_type": "stream",
          "text": [
            "Resultado del entrenamiento: 30.27 RMSE\n",
            "Resultado del test: 0.31 RMSE\n"
          ],
          "name": "stdout"
        }
      ]
    },
    {
      "cell_type": "markdown",
      "metadata": {
        "id": "jPMMi90eclcs",
        "colab_type": "text"
      },
      "source": [
        "# Serie  con casos acumulados\n"
      ]
    },
    {
      "cell_type": "code",
      "metadata": {
        "id": "2iy5M14sbxR4",
        "colab_type": "code",
        "colab": {}
      },
      "source": [
        "df=covid\n",
        "df_diarios=pd.crosstab(df['Fecha de notificación'], columns='count')\n",
        "df_acumulados=np.cumsum(df_diarios)\n",
        "df_diarios.index=pd.to_datetime(df_diarios.index)\n",
        "df_acumulados.index=pd.to_datetime(df_acumulados.index)\n",
        "#df_acumulados.tail()\n"
      ],
      "execution_count": null,
      "outputs": []
    },
    {
      "cell_type": "code",
      "metadata": {
        "id": "SEWN1Svlb3Ay",
        "colab_type": "code",
        "colab": {
          "base_uri": "https://localhost:8080/",
          "height": 518
        },
        "outputId": "6987f7da-728a-48a3-ff65-77466d8a9155"
      },
      "source": [
        "plt.figure(figsize=(12,8))\n",
        "plt.plot(df_acumulados)\n",
        "plt.title('Casos acumulados en Colombia')"
      ],
      "execution_count": null,
      "outputs": [
        {
          "output_type": "execute_result",
          "data": {
            "text/plain": [
              "Text(0.5, 1.0, 'Casos acumulados en Colombia')"
            ]
          },
          "metadata": {
            "tags": []
          },
          "execution_count": 115
        },
        {
          "output_type": "display_data",
          "data": {
            "image/png": "[encoded data removed]",
            "text/plain": [
              "<Figure size 864x576 with 1 Axes>"
            ]
          },
          "metadata": {
            "tags": [],
            "needs_background": "light"
          }
        }
      ]
    },
    {
      "cell_type": "code",
      "metadata": {
        "id": "JXAfR_G1b5PF",
        "colab_type": "code",
        "colab": {
          "base_uri": "https://localhost:8080/",
          "height": 36
        },
        "outputId": "65b4931d-24a4-4125-cbc4-26f8a0ac1cd2"
      },
      "source": [
        "\n",
        "#normalizacion de los datos\n",
        "dataset_scaled = scaler.fit_transform(df_acumulados.values)\n",
        "dataset=pd.DataFrame(dataset_scaled)\n",
        "dataset.index=df_acumulados.index\n",
        "\n",
        "#dividimo entre datos de entrenamiento y de validacion\n",
        "train_size=int(len(dataset)*0.8)\n",
        "test_size= len(dataset)-train_size\n",
        "train=dataset[:train_size]\n",
        "test=dataset[train_size:len(dataset)]\n",
        "print(train_size,test_size)\n",
        "\n",
        "# esta funcion nos permite poner en una matriz los datos que se encuentrar en un vector\n",
        "def create_dataset(X, y, time_steps=1):\n",
        "    Xs, ys = [], []\n",
        "    for i in range(len(X) - time_steps):\n",
        "        v = X.iloc[i:(i + time_steps)].values\n",
        "        Xs.append(v)\n",
        "        ys.append(y[i + time_steps])\n",
        "    return np.array(Xs), np.array(ys)\n",
        "# semilla aleatoria para reproducibilidad\n",
        "np.random.seed(7)\n",
        "\n"
      ],
      "execution_count": null,
      "outputs": [
        {
          "output_type": "stream",
          "text": [
            "84 21\n"
          ],
          "name": "stdout"
        }
      ]
    },
    {
      "cell_type": "code",
      "metadata": {
        "id": "UM6XC8aLcEl9",
        "colab_type": "code",
        "colab": {
          "base_uri": "https://localhost:8080/",
          "height": 450
        },
        "outputId": "b0172b31-6a03-4101-94b5-a27c6de292df"
      },
      "source": [
        "plt.figure(figsize=(14,8))\n",
        "plt.plot(train, label='Conjunto de entrenamiento (Training set): ' + str(train_size) +' puntos (80%)')\n",
        "plt.plot(dataset[train_size-1:len(df_acumulados)], label='Conjunto de Validación (Validation set): '  + str(test_size) + ' puntos (20%)') \n",
        "plt.title(\"Serie de tiempo Pasajero reescalada \", size = 20)\n",
        "plt.legend()\n",
        "plt.show()"
      ],
      "execution_count": null,
      "outputs": [
        {
          "output_type": "display_data",
          "data": {
            "image/png": "[encoded data removed]",
            "text/plain": [
              "<Figure size 1008x576 with 1 Axes>"
            ]
          },
          "metadata": {
            "tags": [],
            "needs_background": "light"
          }
        }
      ]
    },
    {
      "cell_type": "code",
      "metadata": {
        "id": "L3SexDAFcIJA",
        "colab_type": "code",
        "colab": {
          "base_uri": "https://localhost:8080/",
          "height": 36
        },
        "outputId": "63220b85-f519-4f85-b547-35f143e7dd46"
      },
      "source": [
        "#preparando los datos\n",
        "time_steps = 1\n",
        "\n",
        "# reshape to [samples, time_steps, n_features]\n",
        "\n",
        "X_train, trainY = create_dataset(train, train.values, time_steps)\n",
        "X_test, testY = create_dataset(test, test.values, time_steps)\n",
        "\n",
        "print(X_train.shape, trainY.shape)"
      ],
      "execution_count": null,
      "outputs": [
        {
          "output_type": "stream",
          "text": [
            "(83, 1, 1) (83, 1)\n"
          ],
          "name": "stdout"
        }
      ]
    },
    {
      "cell_type": "code",
      "metadata": {
        "id": "8Z-shHUacMQO",
        "colab_type": "code",
        "colab": {}
      },
      "source": [
        "# remodelamos la entrada para que sea[muestras, pasos de tiempo, características]\n",
        "trainX = np.reshape(X_train, (X_train.shape[0], 1, X_train.shape[1]))\n",
        "testX = np.reshape(X_test, (X_test.shape[0], 1, X_test.shape[1]))"
      ],
      "execution_count": null,
      "outputs": []
    },
    {
      "cell_type": "code",
      "metadata": {
        "id": "qCxmtZSqcQBP",
        "colab_type": "code",
        "colab": {}
      },
      "source": [
        "lstm_output =60# como se escoge esta cantidad de outputs\n",
        "model = keras.Sequential()\n",
        "model.add(keras.layers.LSTM(units=lstm_output,  input_shape=(X_train.shape[1], X_train.shape[2])))\n",
        "model.add(keras.layers.Dense(units=1))"
      ],
      "execution_count": null,
      "outputs": []
    },
    {
      "cell_type": "code",
      "metadata": {
        "id": "34vYzbsdcTBv",
        "colab_type": "code",
        "colab": {}
      },
      "source": [
        "\n",
        "#compilacion del modelo\n",
        "model.compile(loss='mean_squared_error',\n",
        "  optimizer=keras.optimizers.Adam(0.01)\n",
        ")"
      ],
      "execution_count": null,
      "outputs": []
    },
    {
      "cell_type": "code",
      "metadata": {
        "id": "3s_1VZkccW1b",
        "colab_type": "code",
        "colab": {
          "base_uri": "https://localhost:8080/",
          "height": 1000
        },
        "outputId": "0147ab14-b241-42b7-bbee-953ca0a987ce"
      },
      "source": [
        "#history=model.fit(trainX,trainY,epochs=100, batch_size=1,verbose=2)\n",
        "history = model.fit(\n",
        "    trainX, trainY,\n",
        "    epochs=50,\n",
        "    batch_size=16,\n",
        "    validation_split=0.01,\n",
        "    verbose=1,\n",
        "    shuffle=False\n",
        ")"
      ],
      "execution_count": null,
      "outputs": [
        {
          "output_type": "stream",
          "text": [
            "Epoch 1/50\n",
            "6/6 [==============================] - 0s 65ms/step - loss: 0.0224 - val_loss: 0.1529\n",
            "Epoch 2/50\n",
            "6/6 [==============================] - 0s 8ms/step - loss: 0.0154 - val_loss: 0.0679\n",
            "Epoch 3/50\n",
            "6/6 [==============================] - 0s 7ms/step - loss: 0.0234 - val_loss: 0.0444\n",
            "Epoch 4/50\n",
            "6/6 [==============================] - 0s 7ms/step - loss: 0.0206 - val_loss: 0.0434\n",
            "Epoch 5/50\n",
            "6/6 [==============================] - 0s 8ms/step - loss: 0.0129 - val_loss: 0.0388\n",
            "Epoch 6/50\n",
            "6/6 [==============================] - 0s 7ms/step - loss: 0.0073 - val_loss: 0.0229\n",
            "Epoch 7/50\n",
            "6/6 [==============================] - 0s 9ms/step - loss: 0.0041 - val_loss: 0.0072\n",
            "Epoch 8/50\n",
            "6/6 [==============================] - 0s 9ms/step - loss: 0.0024 - val_loss: 9.8819e-04\n",
            "Epoch 9/50\n",
            "6/6 [==============================] - 0s 7ms/step - loss: 8.1560e-04 - val_loss: 1.4730e-05\n",
            "Epoch 10/50\n",
            "6/6 [==============================] - 0s 7ms/step - loss: 7.9239e-05 - val_loss: 3.4012e-04\n",
            "Epoch 11/50\n",
            "6/6 [==============================] - 0s 7ms/step - loss: 1.7863e-04 - val_loss: 0.0014\n",
            "Epoch 12/50\n",
            "6/6 [==============================] - 0s 8ms/step - loss: 1.5321e-04 - val_loss: 0.0010\n",
            "Epoch 13/50\n",
            "6/6 [==============================] - 0s 8ms/step - loss: 9.1645e-05 - val_loss: 2.6742e-04\n",
            "Epoch 14/50\n",
            "6/6 [==============================] - 0s 7ms/step - loss: 4.1029e-05 - val_loss: 7.9604e-05\n",
            "Epoch 15/50\n",
            "6/6 [==============================] - 0s 8ms/step - loss: 2.5931e-05 - val_loss: 2.5246e-05\n",
            "Epoch 16/50\n",
            "6/6 [==============================] - 0s 8ms/step - loss: 5.3751e-05 - val_loss: 4.7132e-06\n",
            "Epoch 17/50\n",
            "6/6 [==============================] - 0s 7ms/step - loss: 4.9655e-05 - val_loss: 1.7988e-05\n",
            "Epoch 18/50\n",
            "6/6 [==============================] - 0s 7ms/step - loss: 3.5455e-05 - val_loss: 6.3295e-05\n",
            "Epoch 19/50\n",
            "6/6 [==============================] - 0s 8ms/step - loss: 2.9327e-05 - val_loss: 8.7184e-05\n",
            "Epoch 20/50\n",
            "6/6 [==============================] - 0s 9ms/step - loss: 2.6634e-05 - val_loss: 9.8978e-05\n",
            "Epoch 21/50\n",
            "6/6 [==============================] - 0s 8ms/step - loss: 2.4084e-05 - val_loss: 9.9843e-05\n",
            "Epoch 22/50\n",
            "6/6 [==============================] - 0s 8ms/step - loss: 2.4897e-05 - val_loss: 7.9402e-05\n",
            "Epoch 23/50\n",
            "6/6 [==============================] - 0s 9ms/step - loss: 2.6386e-05 - val_loss: 6.7194e-05\n",
            "Epoch 24/50\n",
            "6/6 [==============================] - 0s 9ms/step - loss: 2.6605e-05 - val_loss: 6.5252e-05\n",
            "Epoch 25/50\n",
            "6/6 [==============================] - 0s 8ms/step - loss: 2.7180e-05 - val_loss: 6.4373e-05\n",
            "Epoch 26/50\n",
            "6/6 [==============================] - 0s 9ms/step - loss: 2.6662e-05 - val_loss: 6.7832e-05\n",
            "Epoch 27/50\n",
            "6/6 [==============================] - 0s 8ms/step - loss: 2.5699e-05 - val_loss: 7.1042e-05\n",
            "Epoch 28/50\n",
            "6/6 [==============================] - 0s 7ms/step - loss: 2.5372e-05 - val_loss: 7.0264e-05\n",
            "Epoch 29/50\n",
            "6/6 [==============================] - 0s 7ms/step - loss: 2.5034e-05 - val_loss: 6.9039e-05\n",
            "Epoch 30/50\n",
            "6/6 [==============================] - 0s 7ms/step - loss: 2.4857e-05 - val_loss: 6.7029e-05\n",
            "Epoch 31/50\n",
            "6/6 [==============================] - 0s 8ms/step - loss: 2.4844e-05 - val_loss: 6.5152e-05\n",
            "Epoch 32/50\n",
            "6/6 [==============================] - 0s 7ms/step - loss: 2.4606e-05 - val_loss: 6.4541e-05\n",
            "Epoch 33/50\n",
            "6/6 [==============================] - 0s 7ms/step - loss: 2.4352e-05 - val_loss: 6.3975e-05\n",
            "Epoch 34/50\n",
            "6/6 [==============================] - 0s 8ms/step - loss: 2.4052e-05 - val_loss: 6.3472e-05\n",
            "Epoch 35/50\n",
            "6/6 [==============================] - 0s 7ms/step - loss: 2.3719e-05 - val_loss: 6.2803e-05\n",
            "Epoch 36/50\n",
            "6/6 [==============================] - 0s 8ms/step - loss: 2.3456e-05 - val_loss: 6.1760e-05\n",
            "Epoch 37/50\n",
            "6/6 [==============================] - 0s 7ms/step - loss: 2.3182e-05 - val_loss: 6.0762e-05\n",
            "Epoch 38/50\n",
            "6/6 [==============================] - 0s 7ms/step - loss: 2.2915e-05 - val_loss: 5.9764e-05\n",
            "Epoch 39/50\n",
            "6/6 [==============================] - 0s 7ms/step - loss: 2.2638e-05 - val_loss: 5.8851e-05\n",
            "Epoch 40/50\n",
            "6/6 [==============================] - 0s 7ms/step - loss: 2.2337e-05 - val_loss: 5.7994e-05\n",
            "Epoch 41/50\n",
            "6/6 [==============================] - 0s 7ms/step - loss: 2.2038e-05 - val_loss: 5.7083e-05\n",
            "Epoch 42/50\n",
            "6/6 [==============================] - 0s 7ms/step - loss: 2.1732e-05 - val_loss: 5.6160e-05\n",
            "Epoch 43/50\n",
            "6/6 [==============================] - 0s 9ms/step - loss: 2.1431e-05 - val_loss: 5.5191e-05\n",
            "Epoch 44/50\n",
            "6/6 [==============================] - 0s 8ms/step - loss: 2.1128e-05 - val_loss: 5.4226e-05\n",
            "Epoch 45/50\n",
            "6/6 [==============================] - 0s 8ms/step - loss: 2.0820e-05 - val_loss: 5.3267e-05\n",
            "Epoch 46/50\n",
            "6/6 [==============================] - 0s 7ms/step - loss: 2.0510e-05 - val_loss: 5.2313e-05\n",
            "Epoch 47/50\n",
            "6/6 [==============================] - 0s 8ms/step - loss: 2.0195e-05 - val_loss: 5.1356e-05\n",
            "Epoch 48/50\n",
            "6/6 [==============================] - 0s 7ms/step - loss: 1.9880e-05 - val_loss: 5.0394e-05\n",
            "Epoch 49/50\n",
            "6/6 [==============================] - 0s 7ms/step - loss: 1.9564e-05 - val_loss: 4.9422e-05\n",
            "Epoch 50/50\n",
            "6/6 [==============================] - 0s 7ms/step - loss: 1.9246e-05 - val_loss: 4.8453e-05\n"
          ],
          "name": "stdout"
        }
      ]
    },
    {
      "cell_type": "code",
      "metadata": {
        "id": "3og9T4gKcaFu",
        "colab_type": "code",
        "colab": {
          "base_uri": "https://localhost:8080/",
          "height": 269
        },
        "outputId": "a15b947c-2c57-472a-ebcf-f49c667af682"
      },
      "source": [
        "plt.plot(history.history['loss'], label='train')\n",
        "plt.plot(history.history['val_loss'], label='test')\n",
        "plt.legend();"
      ],
      "execution_count": null,
      "outputs": [
        {
          "output_type": "display_data",
          "data": {
            "image/png": "[encoded data removed]",
            "text/plain": [
              "<Figure size 432x288 with 1 Axes>"
            ]
          },
          "metadata": {
            "tags": [],
            "needs_background": "light"
          }
        }
      ]
    },
    {
      "cell_type": "code",
      "metadata": {
        "id": "1dsveiLNceWG",
        "colab_type": "code",
        "colab": {
          "base_uri": "https://localhost:8080/",
          "height": 54
        },
        "outputId": "c546e972-f66d-407d-e928-8200c2f25086"
      },
      "source": [
        "#predicciones\n",
        "trainPredict=model.predict(trainX)\n",
        "testPredict=model.predict(testX)\n",
        "\n",
        "#invertimos las predicciones\n",
        "trainPredict = scaler.inverse_transform(trainPredict)\n",
        "trainY = scaler.inverse_transform(trainY)\n",
        "testPredict = scaler.inverse_transform(testPredict)\n",
        "testY = scaler.inverse_transform(testY)\n",
        "\n",
        "#calculo del error rms\n",
        "import math\n",
        "from sklearn.metrics import mean_squared_error\n",
        "trainScore = math.sqrt(mean_squared_error(trainY, trainPredict))\n",
        "print('Resultado del entrenamiento: %.2f RMSE' % (trainScore))\n",
        "testScore = math.sqrt(mean_squared_error(testY, testPredict))\n",
        "print('Resultado del test: %.2f RMSE' % (testScore))\n",
        "\n",
        "#predicciones del entrenamiento de cambio para plotear\n",
        "trainPredictPlot = np.empty_like(dataset)\n",
        "trainPredictPlot[:, :] = np.nan\n",
        "trainPredictPlot[time_steps:len(trainPredict)+time_steps ] = trainPredict\n",
        "\n",
        "# predicciones del test de cambio para plotear\n",
        "testPredictPlot = np.empty_like(dataset)\n",
        "testPredictPlot[:, :] = np.nan\n",
        "testPredictPlot[len(trainPredict)+1:len(dataset)-1, :] = testPredict"
      ],
      "execution_count": null,
      "outputs": [
        {
          "output_type": "stream",
          "text": [
            "Resultado del entrenamiento: 216.12 RMSE\n",
            "Resultado del test: 2547.47 RMSE\n"
          ],
          "name": "stdout"
        }
      ]
    },
    {
      "cell_type": "code",
      "metadata": {
        "id": "quXJ2Xqectyw",
        "colab_type": "code",
        "colab": {
          "base_uri": "https://localhost:8080/",
          "height": 284
        },
        "outputId": "7126c821-34ea-475d-bd26-ff9559e82f77"
      },
      "source": [
        "plt.plot(testPredictPlot)\n"
      ],
      "execution_count": null,
      "outputs": [
        {
          "output_type": "execute_result",
          "data": {
            "text/plain": [
              "[<matplotlib.lines.Line2D at 0x7fed2fe6cf28>]"
            ]
          },
          "metadata": {
            "tags": []
          },
          "execution_count": 84
        },
        {
          "output_type": "display_data",
          "data": {
            "image/png": "[encoded data removed]",
            "text/plain": [
              "<Figure size 432x288 with 1 Axes>"
            ]
          },
          "metadata": {
            "tags": [],
            "needs_background": "light"
          }
        }
      ]
    },
    {
      "cell_type": "code",
      "metadata": {
        "id": "HT4Et6X_cxBF",
        "colab_type": "code",
        "colab": {
          "base_uri": "https://localhost:8080/",
          "height": 297
        },
        "outputId": "f0bf9cd6-f1c3-4ae0-e2b0-7a02eb083122"
      },
      "source": [
        "plt.plot(scaler.inverse_transform(dataset))\n",
        "plt.plot(trainPredictPlot,'r', linewidth = 2)\n",
        "plt.plot(testPredictPlot,'m', linewidth = 2)\n",
        "plt.legend( ('Datos', 'Prediccion datos entramiento', 'Prediccion sobre los datos de test'), loc = 'upper left')\n",
        "plt.grid(True)\n",
        "plt.title(\"Datos cantidad acumulada de infectados\", fontsize = 15)\n",
        "plt.xlabel(\"Tiempo en dias\", fontsize = 10)\n",
        "plt.ylabel(\"nº de infectados\", fontsize = 10)\n",
        "plt.show()\n"
      ],
      "execution_count": null,
      "outputs": [
        {
          "output_type": "display_data",
          "data": {
            "image/png": "[encoded data removed]",
            "text/plain": [
              "<Figure size 432x288 with 1 Axes>"
            ]
          },
          "metadata": {
            "tags": [],
            "needs_background": "light"
          }
        }
      ]
    },
    {
      "cell_type": "markdown",
      "metadata": {
        "id": "67jkdVwS3bhT",
        "colab_type": "text"
      },
      "source": [
        "# Serie numero de muertos acumulados\n"
      ]
    },
    {
      "cell_type": "code",
      "metadata": {
        "id": "s6-nn7LI4XZ4",
        "colab_type": "code",
        "colab": {
          "base_uri": "https://localhost:8080/",
          "height": 245
        },
        "outputId": "844c2dcc-171f-412c-e8c5-12a9417636ca"
      },
      "source": [
        "from google.colab import drive\n",
        "drive.mount('/content/drive')\n",
        "covid_multi=pd.read_excel('/content/drive/My Drive/Mineria de datos/COV.xlsx')\n",
        "covid_multi.tail()"
      ],
      "execution_count": null,
      "outputs": [
        {
          "output_type": "stream",
          "text": [
            "Drive already mounted at /content/drive; to attempt to forcibly remount, call drive.mount(\"/content/drive\", force_remount=True).\n"
          ],
          "name": "stdout"
        },
        {
          "output_type": "execute_result",
          "data": {
            "text/html": [
              "<div>\n",
              "<style scoped>\n",
              "    .dataframe tbody tr th:only-of-type {\n",
              "        vertical-align: middle;\n",
              "    }\n",
              "\n",
              "    .dataframe tbody tr th {\n",
              "        vertical-align: top;\n",
              "    }\n",
              "\n",
              "    .dataframe thead th {\n",
              "        text-align: right;\n",
              "    }\n",
              "</style>\n",
              "<table border=\"1\" class=\"dataframe\">\n",
              "  <thead>\n",
              "    <tr style=\"text-align: right;\">\n",
              "      <th></th>\n",
              "      <th>fecha</th>\n",
              "      <th>total_casos</th>\n",
              "      <th>total_muertes</th>\n",
              "      <th>total_recuperados</th>\n",
              "    </tr>\n",
              "  </thead>\n",
              "  <tbody>\n",
              "    <tr>\n",
              "      <th>101</th>\n",
              "      <td>2020-06-14</td>\n",
              "      <td>49335</td>\n",
              "      <td>1606</td>\n",
              "      <td>NaN</td>\n",
              "    </tr>\n",
              "    <tr>\n",
              "      <th>102</th>\n",
              "      <td>2020-06-15</td>\n",
              "      <td>51459</td>\n",
              "      <td>1665</td>\n",
              "      <td>NaN</td>\n",
              "    </tr>\n",
              "    <tr>\n",
              "      <th>103</th>\n",
              "      <td>2020-06-16</td>\n",
              "      <td>53327</td>\n",
              "      <td>1740</td>\n",
              "      <td>NaN</td>\n",
              "    </tr>\n",
              "    <tr>\n",
              "      <th>104</th>\n",
              "      <td>2020-06-17</td>\n",
              "      <td>55442</td>\n",
              "      <td>1803</td>\n",
              "      <td>NaN</td>\n",
              "    </tr>\n",
              "    <tr>\n",
              "      <th>105</th>\n",
              "      <td>2020-06-18</td>\n",
              "      <td>58613</td>\n",
              "      <td>1889</td>\n",
              "      <td>22680.0</td>\n",
              "    </tr>\n",
              "  </tbody>\n",
              "</table>\n",
              "</div>"
            ],
            "text/plain": [
              "         fecha  total_casos  total_muertes  total_recuperados\n",
              "101 2020-06-14        49335           1606                NaN\n",
              "102 2020-06-15        51459           1665                NaN\n",
              "103 2020-06-16        53327           1740                NaN\n",
              "104 2020-06-17        55442           1803                NaN\n",
              "105 2020-06-18        58613           1889            22680.0"
            ]
          },
          "metadata": {
            "tags": []
          },
          "execution_count": 126
        }
      ]
    },
    {
      "cell_type": "code",
      "metadata": {
        "id": "Rn4AqTgb4ihi",
        "colab_type": "code",
        "colab": {
          "base_uri": "https://localhost:8080/",
          "height": 300
        },
        "outputId": "0f82f548-e54c-4e86-ffc7-22b643e0fb30"
      },
      "source": [
        "df_muertos=covid_multi['total_muertes']\n",
        "plt.plot(df_muertos)\n",
        "plt.title('Cantidad de muertos en colombia acumulados')"
      ],
      "execution_count": null,
      "outputs": [
        {
          "output_type": "execute_result",
          "data": {
            "text/plain": [
              "Text(0.5, 1.0, 'Cantidad de muertos en colombia acumulados')"
            ]
          },
          "metadata": {
            "tags": []
          },
          "execution_count": 127
        },
        {
          "output_type": "display_data",
          "data": {
            "image/png": "[encoded data removed]",
            "text/plain": [
              "<Figure size 432x288 with 1 Axes>"
            ]
          },
          "metadata": {
            "tags": [],
            "needs_background": "light"
          }
        }
      ]
    },
    {
      "cell_type": "code",
      "metadata": {
        "id": "1ugxmNpn-FVe",
        "colab_type": "code",
        "colab": {}
      },
      "source": [
        "df_muertos_values=np.reshape(df_muertos.values, (-1,1))"
      ],
      "execution_count": null,
      "outputs": []
    },
    {
      "cell_type": "code",
      "metadata": {
        "id": "Z7s06kAC9Ueo",
        "colab_type": "code",
        "colab": {
          "base_uri": "https://localhost:8080/",
          "height": 36
        },
        "outputId": "7584e030-3ac4-455b-95bb-4c552eb216ef"
      },
      "source": [
        "#normalizacion de los datos\n",
        "dataset_scaled=scaler.fit_transform(df_muertos_values)\n",
        "dataset=pd.DataFrame(dataset_scaled)\n",
        "dataset.index.index=df_muertos.index\n",
        "\n",
        "#division entre datos de validacion y datos de entrenamiento\n",
        "\n",
        "train_size=int(len(dataset)*0.8)\n",
        "test_size= len(dataset)-train_size\n",
        "train=dataset[:train_size]\n",
        "test=dataset[train_size:len(dataset)]\n",
        "print(train_size,test_size)\n",
        "\n"
      ],
      "execution_count": null,
      "outputs": [
        {
          "output_type": "stream",
          "text": [
            "84 22\n"
          ],
          "name": "stdout"
        }
      ]
    },
    {
      "cell_type": "code",
      "metadata": {
        "id": "gSyI67f_Ahb5",
        "colab_type": "code",
        "colab": {
          "base_uri": "https://localhost:8080/",
          "height": 450
        },
        "outputId": "94aeb580-c01d-4f7c-8d90-ad831356fe44"
      },
      "source": [
        "plt.figure(figsize=(14,8))\n",
        "plt.plot(train, label='Conjunto de entrenamiento (Training set): ' + str(train_size) +' puntos (80%)')\n",
        "plt.plot(dataset[train_size-1:len(df_acumulados)], label='Conjunto de Validación (Validation set): '  + str(test_size) + ' puntos (20%)') \n",
        "plt.title(\"Serie canditad de muertos reescalada \", size = 20)\n",
        "plt.legend()\n",
        "plt.show()"
      ],
      "execution_count": null,
      "outputs": [
        {
          "output_type": "display_data",
          "data": {
            "image/png": "[encoded data removed]",
            "text/plain": [
              "<Figure size 1008x576 with 1 Axes>"
            ]
          },
          "metadata": {
            "tags": [],
            "needs_background": "light"
          }
        }
      ]
    },
    {
      "cell_type": "code",
      "metadata": {
        "id": "v_Qjm435Bxb2",
        "colab_type": "code",
        "colab": {
          "base_uri": "https://localhost:8080/",
          "height": 36
        },
        "outputId": "0f0fb346-3245-4c17-e76b-674dac58464a"
      },
      "source": [
        "#preparando los datos\n",
        "time_steps = 1\n",
        "\n",
        "# reshape to [samples, time_steps, n_features]\n",
        "\n",
        "X_train, trainY = create_dataset(train, train.values, time_steps)\n",
        "X_test, testY = create_dataset(test, test.values, time_steps)\n",
        "\n",
        "print(X_train.shape, trainY.shape)\n",
        "\n",
        "# remodelamos la entrada para que sea[muestras, pasos de tiempo, características]\n",
        "trainX = np.reshape(X_train, (X_train.shape[0], 1, X_train.shape[1]))\n",
        "testX = np.reshape(X_test, (X_test.shape[0], 1, X_test.shape[1]))\n",
        "\n",
        "lstm_output =60 # como se escoge esta cantidad de outputs\n",
        "model = keras.Sequential()\n",
        "model.add(keras.layers.LSTM(units=lstm_output,  input_shape=(X_train.shape[1], X_train.shape[2])))\n",
        "model.add(keras.layers.Dense(units=1))\n",
        "\n",
        "#compilacion del modelo\n",
        "model.compile(loss='mean_squared_error',\n",
        "  optimizer=keras.optimizers.Adam(0.01)\n",
        ")"
      ],
      "execution_count": null,
      "outputs": [
        {
          "output_type": "stream",
          "text": [
            "(83, 1, 1) (83, 1)\n"
          ],
          "name": "stdout"
        }
      ]
    },
    {
      "cell_type": "code",
      "metadata": {
        "id": "W-OPW8YpB_a4",
        "colab_type": "code",
        "colab": {
          "base_uri": "https://localhost:8080/",
          "height": 1000
        },
        "outputId": "7b72ee74-e4ec-4b57-e8d8-b52c53a4a750"
      },
      "source": [
        "history = model.fit(\n",
        "    trainX, trainY,\n",
        "    epochs=50,\n",
        "    batch_size=16,\n",
        "    validation_split=0.01,\n",
        "    verbose=1,\n",
        "    shuffle=False\n",
        ")"
      ],
      "execution_count": null,
      "outputs": [
        {
          "output_type": "stream",
          "text": [
            "Epoch 1/50\n",
            "6/6 [==============================] - 0s 64ms/step - loss: 0.0130 - val_loss: 0.0562\n",
            "Epoch 2/50\n",
            "6/6 [==============================] - 0s 8ms/step - loss: 0.0123 - val_loss: 0.0240\n",
            "Epoch 3/50\n",
            "6/6 [==============================] - 0s 7ms/step - loss: 0.0159 - val_loss: 0.0231\n",
            "Epoch 4/50\n",
            "6/6 [==============================] - 0s 8ms/step - loss: 0.0109 - val_loss: 0.0255\n",
            "Epoch 5/50\n",
            "6/6 [==============================] - 0s 9ms/step - loss: 0.0065 - val_loss: 0.0190\n",
            "Epoch 6/50\n",
            "6/6 [==============================] - 0s 8ms/step - loss: 0.0040 - val_loss: 0.0085\n",
            "Epoch 7/50\n",
            "6/6 [==============================] - 0s 7ms/step - loss: 0.0028 - val_loss: 0.0025\n",
            "Epoch 8/50\n",
            "6/6 [==============================] - 0s 7ms/step - loss: 0.0016 - val_loss: 8.4295e-04\n",
            "Epoch 9/50\n",
            "6/6 [==============================] - 0s 8ms/step - loss: 3.7476e-04 - val_loss: 1.0825e-04\n",
            "Epoch 10/50\n",
            "6/6 [==============================] - 0s 7ms/step - loss: 3.1301e-05 - val_loss: 2.1092e-04\n",
            "Epoch 11/50\n",
            "6/6 [==============================] - 0s 7ms/step - loss: 7.7053e-05 - val_loss: 5.0951e-04\n",
            "Epoch 12/50\n",
            "6/6 [==============================] - 0s 8ms/step - loss: 9.7667e-05 - val_loss: 2.1877e-04\n",
            "Epoch 13/50\n",
            "6/6 [==============================] - 0s 8ms/step - loss: 8.0100e-05 - val_loss: 1.0399e-04\n",
            "Epoch 14/50\n",
            "6/6 [==============================] - 0s 9ms/step - loss: 1.4663e-05 - val_loss: 2.6360e-05\n",
            "Epoch 15/50\n",
            "6/6 [==============================] - 0s 8ms/step - loss: 1.8890e-05 - val_loss: 2.3209e-07\n",
            "Epoch 16/50\n",
            "6/6 [==============================] - 0s 8ms/step - loss: 2.6397e-05 - val_loss: 2.9819e-07\n",
            "Epoch 17/50\n",
            "6/6 [==============================] - 0s 8ms/step - loss: 2.5909e-05 - val_loss: 1.4791e-06\n",
            "Epoch 18/50\n",
            "6/6 [==============================] - 0s 7ms/step - loss: 2.3156e-05 - val_loss: 4.6226e-06\n",
            "Epoch 19/50\n",
            "6/6 [==============================] - 0s 8ms/step - loss: 1.7585e-05 - val_loss: 1.4612e-05\n",
            "Epoch 20/50\n",
            "6/6 [==============================] - 0s 8ms/step - loss: 1.5122e-05 - val_loss: 2.0480e-05\n",
            "Epoch 21/50\n",
            "6/6 [==============================] - 0s 8ms/step - loss: 1.5541e-05 - val_loss: 1.6177e-05\n",
            "Epoch 22/50\n",
            "6/6 [==============================] - 0s 8ms/step - loss: 1.5279e-05 - val_loss: 1.3912e-05\n",
            "Epoch 23/50\n",
            "6/6 [==============================] - 0s 8ms/step - loss: 1.5537e-05 - val_loss: 1.0667e-05\n",
            "Epoch 24/50\n",
            "6/6 [==============================] - 0s 10ms/step - loss: 1.6455e-05 - val_loss: 8.9387e-06\n",
            "Epoch 25/50\n",
            "6/6 [==============================] - 0s 8ms/step - loss: 1.6349e-05 - val_loss: 9.7344e-06\n",
            "Epoch 26/50\n",
            "6/6 [==============================] - 0s 8ms/step - loss: 1.6334e-05 - val_loss: 1.0194e-05\n",
            "Epoch 27/50\n",
            "6/6 [==============================] - 0s 8ms/step - loss: 1.6094e-05 - val_loss: 1.0961e-05\n",
            "Epoch 28/50\n",
            "6/6 [==============================] - 0s 7ms/step - loss: 1.5789e-05 - val_loss: 1.1253e-05\n",
            "Epoch 29/50\n",
            "6/6 [==============================] - 0s 7ms/step - loss: 1.5795e-05 - val_loss: 1.0779e-05\n",
            "Epoch 30/50\n",
            "6/6 [==============================] - 0s 8ms/step - loss: 1.5731e-05 - val_loss: 1.0470e-05\n",
            "Epoch 31/50\n",
            "6/6 [==============================] - 0s 8ms/step - loss: 1.5762e-05 - val_loss: 1.0062e-05\n",
            "Epoch 32/50\n",
            "6/6 [==============================] - 0s 8ms/step - loss: 1.5759e-05 - val_loss: 9.9091e-06\n",
            "Epoch 33/50\n",
            "6/6 [==============================] - 0s 11ms/step - loss: 1.5677e-05 - val_loss: 9.8815e-06\n",
            "Epoch 34/50\n",
            "6/6 [==============================] - 0s 8ms/step - loss: 1.5614e-05 - val_loss: 9.8013e-06\n",
            "Epoch 35/50\n",
            "6/6 [==============================] - 0s 8ms/step - loss: 1.5512e-05 - val_loss: 9.7250e-06\n",
            "Epoch 36/50\n",
            "6/6 [==============================] - 0s 8ms/step - loss: 1.5444e-05 - val_loss: 9.5407e-06\n",
            "Epoch 37/50\n",
            "6/6 [==============================] - 0s 8ms/step - loss: 1.5373e-05 - val_loss: 9.3639e-06\n",
            "Epoch 38/50\n",
            "6/6 [==============================] - 0s 8ms/step - loss: 1.5305e-05 - val_loss: 9.1836e-06\n",
            "Epoch 39/50\n",
            "6/6 [==============================] - 0s 8ms/step - loss: 1.5233e-05 - val_loss: 9.0259e-06\n",
            "Epoch 40/50\n",
            "6/6 [==============================] - 0s 8ms/step - loss: 1.5147e-05 - val_loss: 8.8811e-06\n",
            "Epoch 41/50\n",
            "6/6 [==============================] - 0s 8ms/step - loss: 1.5063e-05 - val_loss: 8.7253e-06\n",
            "Epoch 42/50\n",
            "6/6 [==============================] - 0s 9ms/step - loss: 1.4972e-05 - val_loss: 8.5661e-06\n",
            "Epoch 43/50\n",
            "6/6 [==============================] - 0s 9ms/step - loss: 1.4884e-05 - val_loss: 8.3938e-06\n",
            "Epoch 44/50\n",
            "6/6 [==============================] - 0s 9ms/step - loss: 1.4792e-05 - val_loss: 8.2242e-06\n",
            "Epoch 45/50\n",
            "6/6 [==============================] - 0s 8ms/step - loss: 1.4700e-05 - val_loss: 8.0523e-06\n",
            "Epoch 46/50\n",
            "6/6 [==============================] - 0s 8ms/step - loss: 1.4603e-05 - val_loss: 7.8834e-06\n",
            "Epoch 47/50\n",
            "6/6 [==============================] - 0s 9ms/step - loss: 1.4504e-05 - val_loss: 7.7126e-06\n",
            "Epoch 48/50\n",
            "6/6 [==============================] - 0s 8ms/step - loss: 1.4403e-05 - val_loss: 7.5396e-06\n",
            "Epoch 49/50\n",
            "6/6 [==============================] - 0s 7ms/step - loss: 1.4300e-05 - val_loss: 7.3649e-06\n",
            "Epoch 50/50\n",
            "6/6 [==============================] - 0s 8ms/step - loss: 1.4196e-05 - val_loss: 7.1885e-06\n"
          ],
          "name": "stdout"
        }
      ]
    },
    {
      "cell_type": "code",
      "metadata": {
        "id": "u3ajSnhoCEWs",
        "colab_type": "code",
        "colab": {
          "base_uri": "https://localhost:8080/",
          "height": 281
        },
        "outputId": "09392eeb-30f3-434b-e9ef-0aab440532f9"
      },
      "source": [
        "plt.plot(history.history['loss'], label='train')\n",
        "plt.plot(history.history['val_loss'], label='test')\n",
        "plt.title('Funcion de perdida para cantidad de muertos acumulados')\n",
        "plt.legend();"
      ],
      "execution_count": null,
      "outputs": [
        {
          "output_type": "display_data",
          "data": {
            "image/png": "[encoded data removed]",
            "text/plain": [
              "<Figure size 432x288 with 1 Axes>"
            ]
          },
          "metadata": {
            "tags": [],
            "needs_background": "light"
          }
        }
      ]
    },
    {
      "cell_type": "code",
      "metadata": {
        "id": "95SYn7iSCP9f",
        "colab_type": "code",
        "colab": {
          "base_uri": "https://localhost:8080/",
          "height": 54
        },
        "outputId": "33eee517-677c-445a-e3ac-3e3b4925b201"
      },
      "source": [
        "#predicciones\n",
        "trainPredict=model.predict(trainX)\n",
        "testPredict=model.predict(testX)\n",
        "\n",
        "#invertimos las predicciones\n",
        "trainPredict = scaler.inverse_transform(trainPredict)\n",
        "trainY = scaler.inverse_transform(trainY)\n",
        "testPredict = scaler.inverse_transform(testPredict)\n",
        "testY = scaler.inverse_transform(testY)\n",
        "\n",
        "#calculo del error rms\n",
        "import math\n",
        "from sklearn.metrics import mean_squared_error\n",
        "trainScore = math.sqrt(mean_squared_error(trainY, trainPredict))\n",
        "print('Resultado del entrenamiento: %.2f RMSE' % (trainScore))\n",
        "testScore = math.sqrt(mean_squared_error(testY, testPredict))\n",
        "print('Resultado del test: %.2f RMSE' % (testScore))\n"
      ],
      "execution_count": null,
      "outputs": [
        {
          "output_type": "stream",
          "text": [
            "Resultado del entrenamiento: 5.99 RMSE\n",
            "Resultado del test: 37.83 RMSE\n"
          ],
          "name": "stdout"
        }
      ]
    },
    {
      "cell_type": "code",
      "metadata": {
        "id": "YHUQG4iyCX3k",
        "colab_type": "code",
        "colab": {
          "base_uri": "https://localhost:8080/",
          "height": 287
        },
        "outputId": "3486c51a-887b-4b44-bdad-d78b1fc5491a"
      },
      "source": [
        "#predicciones del entrenamiento de cambio para plotear\n",
        "trainPredictPlot = np.empty_like(dataset)\n",
        "trainPredictPlot[:, :] = np.nan\n",
        "trainPredictPlot[time_steps:len(trainPredict)+time_steps ] = trainPredict\n",
        "\n",
        "# predicciones del test de cambio para plotear\n",
        "testPredictPlot = np.empty_like(dataset)\n",
        "testPredictPlot[:, :] = np.nan\n",
        "testPredictPlot[len(trainPredict)+1:len(dataset)-1, :] = testPredict\n",
        "\n",
        "plt.plot(testPredictPlot)"
      ],
      "execution_count": null,
      "outputs": [
        {
          "output_type": "execute_result",
          "data": {
            "text/plain": [
              "[<matplotlib.lines.Line2D at 0x7fed313300b8>]"
            ]
          },
          "metadata": {
            "tags": []
          },
          "execution_count": 135
        },
        {
          "output_type": "display_data",
          "data": {
            "image/png": "[encoded data removed]",
            "text/plain": [
              "<Figure size 432x288 with 1 Axes>"
            ]
          },
          "metadata": {
            "tags": [],
            "needs_background": "light"
          }
        }
      ]
    },
    {
      "cell_type": "code",
      "metadata": {
        "id": "2hq2Rg-gClQu",
        "colab_type": "code",
        "colab": {
          "base_uri": "https://localhost:8080/",
          "height": 297
        },
        "outputId": "3602c127-60f7-4bd1-888c-53d42d1ec70e"
      },
      "source": [
        "plt.plot(scaler.inverse_transform(dataset))\n",
        "plt.plot(trainPredictPlot,'r', linewidth = 2)\n",
        "plt.plot(testPredictPlot,'m', linewidth = 2)\n",
        "plt.legend( ('Datos', 'Prediccion datos entramiento', 'Prediccion sobre los datos de test'), loc = 'upper left')\n",
        "plt.grid(True)\n",
        "plt.title(\"Datos Cantidad de muertos acumulados\", fontsize = 15)\n",
        "plt.xlabel(\"Tiempo en dias\", fontsize = 10)\n",
        "plt.ylabel(\"nº muertos \", fontsize = 10)\n",
        "plt.show()\n"
      ],
      "execution_count": null,
      "outputs": [
        {
          "output_type": "display_data",
          "data": {
            "image/png": "[encoded data removed]",
            "text/plain": [
              "<Figure size 432x288 with 1 Axes>"
            ]
          },
          "metadata": {
            "tags": [],
            "needs_background": "light"
          }
        }
      ]
    },
    {
      "cell_type": "markdown",
      "metadata": {
        "id": "T9L5y1aGC4uk",
        "colab_type": "text"
      },
      "source": [
        "# Serie numero de recuperados"
      ]
    },
    {
      "cell_type": "code",
      "metadata": {
        "id": "VIqJFq8uC37A",
        "colab_type": "code",
        "colab": {
          "base_uri": "https://localhost:8080/",
          "height": 300
        },
        "outputId": "63a5a9b8-c7dd-4c20-fffb-e471bba1a845"
      },
      "source": [
        "df_recuperados=covid_multi['total_recuperados'][:95]\n",
        "plt.plot(df_recuperados)\n",
        "plt.title('Serie de numero de recuperados acumulados')"
      ],
      "execution_count": null,
      "outputs": [
        {
          "output_type": "execute_result",
          "data": {
            "text/plain": [
              "Text(0.5, 1.0, 'Serie de numero de recuperados acumulados')"
            ]
          },
          "metadata": {
            "tags": []
          },
          "execution_count": 143
        },
        {
          "output_type": "display_data",
          "data": {
            "image/png": "[encoded data removed]",
            "text/plain": [
              "<Figure size 432x288 with 1 Axes>"
            ]
          },
          "metadata": {
            "tags": [],
            "needs_background": "light"
          }
        }
      ]
    },
    {
      "cell_type": "code",
      "metadata": {
        "id": "IZtlk8l_FHaQ",
        "colab_type": "code",
        "colab": {}
      },
      "source": [
        "#normalizacion de los datos\n",
        "df_recuperados_value=np.reshape(df_recuperados.values,(-1,1))\n",
        "dataset_scaled = scaler.fit_transform(df_recuperados_value)\n",
        "dataset=pd.DataFrame(dataset_scaled)\n",
        "dataset.index=df_recuperados.index"
      ],
      "execution_count": null,
      "outputs": []
    },
    {
      "cell_type": "code",
      "metadata": {
        "id": "KsTRGFBYFnUA",
        "colab_type": "code",
        "colab": {
          "base_uri": "https://localhost:8080/",
          "height": 36
        },
        "outputId": "bc5fa0ab-d35b-48d5-f116-ea1298a3abca"
      },
      "source": [
        "#dividimo entre datos de entrenamiento y de validacion\n",
        "train_size=int(len(dataset)*0.8)\n",
        "test_size= len(dataset)-train_size\n",
        "train=dataset[:train_size]\n",
        "test=dataset[train_size:len(dataset)]\n",
        "print(train_size,test_size)\n",
        "\n"
      ],
      "execution_count": null,
      "outputs": [
        {
          "output_type": "stream",
          "text": [
            "76 19\n"
          ],
          "name": "stdout"
        }
      ]
    },
    {
      "cell_type": "code",
      "metadata": {
        "id": "GY6Xr06lFrTk",
        "colab_type": "code",
        "colab": {
          "base_uri": "https://localhost:8080/",
          "height": 450
        },
        "outputId": "37ea1b54-02e8-4f5a-afe9-e2b0e30edc76"
      },
      "source": [
        "plt.figure(figsize=(14,8))\n",
        "plt.plot(train, label='Conjunto de entrenamiento (Training set): ' + str(train_size) +' puntos (80%)')\n",
        "plt.plot(dataset[train_size-1:len(df_acumulados)], label='Conjunto de Validación (Validation set): '  + str(test_size) + ' puntos (20%)') \n",
        "plt.title(\"Serie de cantidad de recuperados \", size = 20)\n",
        "plt.legend()\n",
        "plt.show()"
      ],
      "execution_count": null,
      "outputs": [
        {
          "output_type": "display_data",
          "data": {
            "image/png": "[encoded data removed]",
            "text/plain": [
              "<Figure size 1008x576 with 1 Axes>"
            ]
          },
          "metadata": {
            "tags": [],
            "needs_background": "light"
          }
        }
      ]
    },
    {
      "cell_type": "code",
      "metadata": {
        "id": "erjVik_ZFzMB",
        "colab_type": "code",
        "colab": {
          "base_uri": "https://localhost:8080/",
          "height": 36
        },
        "outputId": "ec4d2c57-a6f9-4cd8-9f9b-9e0f10defe20"
      },
      "source": [
        "#preparando los datos\n",
        "time_steps = 1\n",
        "\n",
        "# reshape to [samples, time_steps, n_features]\n",
        "\n",
        "X_train, trainY = create_dataset(train, train.values, time_steps)\n",
        "X_test, testY = create_dataset(test, test.values, time_steps)\n",
        "\n",
        "print(X_train.shape, trainY.shape)\n",
        "\n",
        "# remodelamos la entrada para que sea[muestras, pasos de tiempo, características]\n",
        "trainX = np.reshape(X_train, (X_train.shape[0], 1, X_train.shape[1]))\n",
        "testX = np.reshape(X_test, (X_test.shape[0], 1, X_test.shape[1]))\n",
        "\n",
        "lstm_output =60# como se escoge esta cantidad de outputs\n",
        "model = keras.Sequential()\n",
        "model.add(keras.layers.LSTM(units=lstm_output,  input_shape=(X_train.shape[1], X_train.shape[2])))\n",
        "model.add(keras.layers.Dense(units=1))\n",
        "\n",
        "#compilacion del modelo\n",
        "model.compile(loss='mean_squared_error',\n",
        "  optimizer=keras.optimizers.Adam(0.01)\n",
        ")\n"
      ],
      "execution_count": null,
      "outputs": [
        {
          "output_type": "stream",
          "text": [
            "(75, 1, 1) (75, 1)\n"
          ],
          "name": "stdout"
        }
      ]
    },
    {
      "cell_type": "code",
      "metadata": {
        "id": "slrpoaweF7oH",
        "colab_type": "code",
        "colab": {
          "base_uri": "https://localhost:8080/",
          "height": 1000
        },
        "outputId": "3ceb0498-d947-488c-ca33-02d944b990f9"
      },
      "source": [
        "history = model.fit(\n",
        "    trainX, trainY,\n",
        "    epochs=50,\n",
        "    batch_size=16,\n",
        "    validation_split=0.01,\n",
        "    verbose=1,\n",
        "    shuffle=False\n",
        ")"
      ],
      "execution_count": null,
      "outputs": [
        {
          "output_type": "stream",
          "text": [
            "Epoch 1/50\n",
            "5/5 [==============================] - 0s 83ms/step - loss: 0.0027 - val_loss: 0.0191\n",
            "Epoch 2/50\n",
            "5/5 [==============================] - 0s 10ms/step - loss: 0.0076 - val_loss: 0.0217\n",
            "Epoch 3/50\n",
            "5/5 [==============================] - 0s 9ms/step - loss: 0.0050 - val_loss: 0.0261\n",
            "Epoch 4/50\n",
            "5/5 [==============================] - 0s 9ms/step - loss: 0.0033 - val_loss: 0.0213\n",
            "Epoch 5/50\n",
            "5/5 [==============================] - 0s 11ms/step - loss: 0.0023 - val_loss: 0.0129\n",
            "Epoch 6/50\n",
            "5/5 [==============================] - 0s 9ms/step - loss: 0.0020 - val_loss: 0.0075\n",
            "Epoch 7/50\n",
            "5/5 [==============================] - 0s 9ms/step - loss: 0.0018 - val_loss: 0.0056\n",
            "Epoch 8/50\n",
            "5/5 [==============================] - 0s 9ms/step - loss: 0.0011 - val_loss: 0.0040\n",
            "Epoch 9/50\n",
            "5/5 [==============================] - 0s 9ms/step - loss: 4.8433e-04 - val_loss: 0.0015\n",
            "Epoch 10/50\n",
            "5/5 [==============================] - 0s 9ms/step - loss: 1.7232e-04 - val_loss: 1.2729e-04\n",
            "Epoch 11/50\n",
            "5/5 [==============================] - 0s 9ms/step - loss: 8.0757e-05 - val_loss: 1.0430e-05\n",
            "Epoch 12/50\n",
            "5/5 [==============================] - 0s 8ms/step - loss: 1.5003e-05 - val_loss: 1.5225e-04\n",
            "Epoch 13/50\n",
            "5/5 [==============================] - 0s 9ms/step - loss: 4.7243e-05 - val_loss: 4.7688e-04\n",
            "Epoch 14/50\n",
            "5/5 [==============================] - 0s 8ms/step - loss: 4.1352e-05 - val_loss: 3.9892e-04\n",
            "Epoch 15/50\n",
            "5/5 [==============================] - 0s 10ms/step - loss: 2.8630e-05 - val_loss: 1.8774e-04\n",
            "Epoch 16/50\n",
            "5/5 [==============================] - 0s 9ms/step - loss: 1.5087e-05 - val_loss: 1.0776e-04\n",
            "Epoch 17/50\n",
            "5/5 [==============================] - 0s 9ms/step - loss: 5.4691e-06 - val_loss: 3.1580e-05\n",
            "Epoch 18/50\n",
            "5/5 [==============================] - 0s 8ms/step - loss: 8.9616e-06 - val_loss: 7.0131e-06\n",
            "Epoch 19/50\n",
            "5/5 [==============================] - 0s 9ms/step - loss: 8.9283e-06 - val_loss: 9.7218e-06\n",
            "Epoch 20/50\n",
            "5/5 [==============================] - 0s 8ms/step - loss: 1.0415e-05 - val_loss: 1.2514e-05\n",
            "Epoch 21/50\n",
            "5/5 [==============================] - 0s 9ms/step - loss: 8.9277e-06 - val_loss: 2.1768e-05\n",
            "Epoch 22/50\n",
            "5/5 [==============================] - 0s 13ms/step - loss: 7.1262e-06 - val_loss: 4.0315e-05\n",
            "Epoch 23/50\n",
            "5/5 [==============================] - 0s 9ms/step - loss: 7.0408e-06 - val_loss: 4.6929e-05\n",
            "Epoch 24/50\n",
            "5/5 [==============================] - 0s 10ms/step - loss: 6.9322e-06 - val_loss: 5.0708e-05\n",
            "Epoch 25/50\n",
            "5/5 [==============================] - 0s 9ms/step - loss: 6.6375e-06 - val_loss: 4.9496e-05\n",
            "Epoch 26/50\n",
            "5/5 [==============================] - 0s 9ms/step - loss: 6.7540e-06 - val_loss: 4.1937e-05\n",
            "Epoch 27/50\n",
            "5/5 [==============================] - 0s 9ms/step - loss: 6.7179e-06 - val_loss: 3.8593e-05\n",
            "Epoch 28/50\n",
            "5/5 [==============================] - 0s 9ms/step - loss: 6.8391e-06 - val_loss: 3.5654e-05\n",
            "Epoch 29/50\n",
            "5/5 [==============================] - 0s 9ms/step - loss: 6.9936e-06 - val_loss: 3.4847e-05\n",
            "Epoch 30/50\n",
            "5/5 [==============================] - 0s 8ms/step - loss: 6.9286e-06 - val_loss: 3.6444e-05\n",
            "Epoch 31/50\n",
            "5/5 [==============================] - 0s 8ms/step - loss: 6.9642e-06 - val_loss: 3.7345e-05\n",
            "Epoch 32/50\n",
            "5/5 [==============================] - 0s 9ms/step - loss: 6.9005e-06 - val_loss: 3.8747e-05\n",
            "Epoch 33/50\n",
            "5/5 [==============================] - 0s 8ms/step - loss: 6.8686e-06 - val_loss: 3.9055e-05\n",
            "Epoch 34/50\n",
            "5/5 [==============================] - 0s 11ms/step - loss: 6.8778e-06 - val_loss: 3.8660e-05\n",
            "Epoch 35/50\n",
            "5/5 [==============================] - 0s 9ms/step - loss: 6.8591e-06 - val_loss: 3.8215e-05\n",
            "Epoch 36/50\n",
            "5/5 [==============================] - 0s 9ms/step - loss: 6.8917e-06 - val_loss: 3.7478e-05\n",
            "Epoch 37/50\n",
            "5/5 [==============================] - 0s 9ms/step - loss: 6.8951e-06 - val_loss: 3.7236e-05\n",
            "Epoch 38/50\n",
            "5/5 [==============================] - 0s 8ms/step - loss: 6.9071e-06 - val_loss: 3.7071e-05\n",
            "Epoch 39/50\n",
            "5/5 [==============================] - 0s 8ms/step - loss: 6.9095e-06 - val_loss: 3.7113e-05\n",
            "Epoch 40/50\n",
            "5/5 [==============================] - 0s 9ms/step - loss: 6.9014e-06 - val_loss: 3.7164e-05\n",
            "Epoch 41/50\n",
            "5/5 [==============================] - 0s 10ms/step - loss: 6.9016e-06 - val_loss: 3.7092e-05\n",
            "Epoch 42/50\n",
            "5/5 [==============================] - 0s 9ms/step - loss: 6.8938e-06 - val_loss: 3.6983e-05\n",
            "Epoch 43/50\n",
            "5/5 [==============================] - 0s 8ms/step - loss: 6.8959e-06 - val_loss: 3.6759e-05\n",
            "Epoch 44/50\n",
            "5/5 [==============================] - 0s 12ms/step - loss: 6.8936e-06 - val_loss: 3.6571e-05\n",
            "Epoch 45/50\n",
            "5/5 [==============================] - 0s 11ms/step - loss: 6.8945e-06 - val_loss: 3.6378e-05\n",
            "Epoch 46/50\n",
            "5/5 [==============================] - 0s 9ms/step - loss: 6.8926e-06 - val_loss: 3.6235e-05\n",
            "Epoch 47/50\n",
            "5/5 [==============================] - 0s 9ms/step - loss: 6.8896e-06 - val_loss: 3.6098e-05\n",
            "Epoch 48/50\n",
            "5/5 [==============================] - 0s 10ms/step - loss: 6.8861e-06 - val_loss: 3.5960e-05\n",
            "Epoch 49/50\n",
            "5/5 [==============================] - 0s 9ms/step - loss: 6.8812e-06 - val_loss: 3.5809e-05\n",
            "Epoch 50/50\n",
            "5/5 [==============================] - 0s 9ms/step - loss: 6.8773e-06 - val_loss: 3.5639e-05\n"
          ],
          "name": "stdout"
        }
      ]
    },
    {
      "cell_type": "code",
      "metadata": {
        "id": "TNwp8u9pGEZu",
        "colab_type": "code",
        "colab": {
          "base_uri": "https://localhost:8080/",
          "height": 281
        },
        "outputId": "1bee3b5b-cb64-47ee-f2d8-1bdaeb3b73e0"
      },
      "source": [
        "plt.plot(history.history['loss'], label='train')\n",
        "plt.plot(history.history['val_loss'], label='test')\n",
        "plt.title('Funcion de perdida para serie de casos recuperados')\n",
        "plt.legend();"
      ],
      "execution_count": null,
      "outputs": [
        {
          "output_type": "display_data",
          "data": {
            "image/png": "[encoded data removed]",
            "text/plain": [
              "<Figure size 432x288 with 1 Axes>"
            ]
          },
          "metadata": {
            "tags": [],
            "needs_background": "light"
          }
        }
      ]
    },
    {
      "cell_type": "code",
      "metadata": {
        "id": "l3UbXP2FGPhX",
        "colab_type": "code",
        "colab": {
          "base_uri": "https://localhost:8080/",
          "height": 54
        },
        "outputId": "993f0b9d-a76a-4939-f627-1a7e3cce5eed"
      },
      "source": [
        "#predicciones\n",
        "trainPredict=model.predict(trainX)\n",
        "testPredict=model.predict(testX)\n",
        "\n",
        "#invertimos las predicciones\n",
        "trainPredict = scaler.inverse_transform(trainPredict)\n",
        "trainY = scaler.inverse_transform(trainY)\n",
        "testPredict = scaler.inverse_transform(testPredict)\n",
        "testY = scaler.inverse_transform(testY)\n",
        "\n",
        "#calculo del error rms\n",
        "import math\n",
        "from sklearn.metrics import mean_squared_error\n",
        "trainScore = math.sqrt(mean_squared_error(trainY, trainPredict))\n",
        "print('Resultado del entrenamiento: %.2f RMSE' % (trainScore))\n",
        "testScore = math.sqrt(mean_squared_error(testY, testPredict))\n",
        "print('Resultado del test: %.2f RMSE' % (testScore))\n",
        "\n",
        "#predicciones del entrenamiento de cambio para plotear\n",
        "trainPredictPlot = np.empty_like(dataset)\n",
        "trainPredictPlot[:, :] = np.nan\n",
        "trainPredictPlot[time_steps:len(trainPredict)+time_steps ] = trainPredict\n",
        "\n",
        "# predicciones del test de cambio para plotear\n",
        "testPredictPlot = np.empty_like(dataset)\n",
        "testPredictPlot[:, :] = np.nan\n",
        "testPredictPlot[len(trainPredict)+1:len(dataset)-1, :] = testPredict"
      ],
      "execution_count": null,
      "outputs": [
        {
          "output_type": "stream",
          "text": [
            "Resultado del entrenamiento: 37.69 RMSE\n",
            "Resultado del test: 535.53 RMSE\n"
          ],
          "name": "stdout"
        }
      ]
    },
    {
      "cell_type": "code",
      "metadata": {
        "id": "S0mndsE6GZo2",
        "colab_type": "code",
        "colab": {
          "base_uri": "https://localhost:8080/",
          "height": 297
        },
        "outputId": "6fa3f960-c518-42c9-97e8-ddf2892c5f8e"
      },
      "source": [
        "plt.plot(scaler.inverse_transform(dataset))\n",
        "plt.plot(trainPredictPlot,'r', linewidth = 2)\n",
        "plt.plot(testPredictPlot,'m', linewidth = 2)\n",
        "plt.legend( ('Datos', 'Prediccion datos entramiento', 'Prediccion sobre los datos de test'), loc = 'upper left')\n",
        "plt.grid(True)\n",
        "plt.title(\"Datos serie de casos recuperados\", fontsize = 15)\n",
        "plt.xlabel(\"Tiempo dias\", fontsize = 10)\n",
        "plt.ylabel(\"nº recuperados\", fontsize = 10)\n",
        "plt.show()\n"
      ],
      "execution_count": null,
      "outputs": [
        {
          "output_type": "display_data",
          "data": {
            "image/png": "[encoded data removed]",
            "text/plain": [
              "<Figure size 432x288 with 1 Axes>"
            ]
          },
          "metadata": {
            "tags": [],
            "needs_background": "light"
          }
        }
      ]
    },
    {
      "cell_type": "markdown",
      "metadata": {
        "id": "OaF_i-Ap4D3J",
        "colab_type": "text"
      },
      "source": [
        "# Red LSTM  Multivariada\n",
        "\n"
      ]
    },
    {
      "cell_type": "code",
      "metadata": {
        "id": "XAW5s6ozSrNW",
        "colab_type": "code",
        "colab": {}
      },
      "source": [
        "# Importamcion de datos para la parte multivariada\n",
        "from google.colab import drive\n",
        "drive.mount('/content/drive')\n",
        "covid_multi=pd.read_excel('/content/drive/My Drive/Mineria de datos/COV.xlsx')\n",
        "covid_multi.tail()\n",
        "#llenar los na con 16000 y 16.500 los datos 95 y 96 en total recuperados\n"
      ],
      "execution_count": null,
      "outputs": []
    },
    {
      "cell_type": "code",
      "metadata": {
        "id": "O-xYjMPT4HKf",
        "colab_type": "code",
        "colab": {}
      },
      "source": [
        "\n",
        "features_considered = ['total_casos','total_muertes','total_recuperados']"
      ],
      "execution_count": null,
      "outputs": []
    },
    {
      "cell_type": "code",
      "metadata": {
        "id": "n2rQ1pPp5bEt",
        "colab_type": "code",
        "colab": {}
      },
      "source": [
        "features = covid_multi[features_considered]\n",
        "features.index = covid_multi['fecha']\n",
        "features.head()"
      ],
      "execution_count": null,
      "outputs": []
    },
    {
      "cell_type": "code",
      "metadata": {
        "id": "1naJtq1c9od8",
        "colab_type": "code",
        "colab": {}
      },
      "source": [
        "features.plot(subplots=True)\n"
      ],
      "execution_count": null,
      "outputs": []
    },
    {
      "cell_type": "code",
      "metadata": {
        "id": "Bxg4wqy39whO",
        "colab_type": "code",
        "colab": {}
      },
      "source": [
        "dataset = features.values\n",
        "\n",
        "len_train=int(len(dataset)* 0.8)\n",
        "len_test=int(len(dataset)*0.2)\n",
        "data_mean = dataset[:len_train].mean(axis=0)\n",
        "data_std = dataset[:len_train].std(axis=0)"
      ],
      "execution_count": null,
      "outputs": []
    },
    {
      "cell_type": "code",
      "metadata": {
        "id": "I6XHtwZDYsMT",
        "colab_type": "code",
        "colab": {}
      },
      "source": [
        "print(len_train,len_test)"
      ],
      "execution_count": null,
      "outputs": []
    },
    {
      "cell_type": "markdown",
      "metadata": {
        "id": "3JPh6vcXVoen",
        "colab_type": "text"
      },
      "source": [
        "#Reescalamiento de los datos"
      ]
    },
    {
      "cell_type": "code",
      "metadata": {
        "id": "bvYNK6w7-Av3",
        "colab_type": "code",
        "colab": {}
      },
      "source": [
        "#dataset = (dataset-data_mean)/data_std\n",
        "TRAIN_SPLIT=int(len(dataset)*0.8)\n",
        "VAL_SPLIT =int(len(dataset) *0.2)\n",
        "print(TRAIN_SPLIT,VAL_SPLIT)"
      ],
      "execution_count": null,
      "outputs": []
    },
    {
      "cell_type": "code",
      "metadata": {
        "id": "sYbURyuy7Y-0",
        "colab_type": "code",
        "colab": {}
      },
      "source": [
        "from sklearn.preprocessing import MinMaxScaler\n",
        "scaler = MinMaxScaler(feature_range=(0, 1))\n",
        "scaler = MinMaxScaler(feature_range=(0, 1))\n",
        "scaled_data = scaler.fit_transform(dataset)"
      ],
      "execution_count": null,
      "outputs": []
    },
    {
      "cell_type": "markdown",
      "metadata": {
        "id": "GALaeC3O2ELt",
        "colab_type": "text"
      },
      "source": [
        "## modelo a un paso"
      ]
    },
    {
      "cell_type": "code",
      "metadata": {
        "id": "1TaTD8kU-Czl",
        "colab_type": "code",
        "colab": {}
      },
      "source": [
        "def multivariate_data(dataset, target, start_index, end_index, history_size,\n",
        "                      target_size, step, single_step=False):\n",
        "  data = []\n",
        "  labels = []\n",
        "\n",
        "  start_index = start_index + history_size\n",
        "  if end_index is None:\n",
        "    end_index = len(dataset) - target_size\n",
        "\n",
        "  for i in range(start_index, end_index):\n",
        "    indices = range(i-history_size, i, step)\n",
        "    data.append(dataset[indices])\n",
        "\n",
        "    if single_step:\n",
        "      labels.append(target[i+target_size])\n",
        "    else:\n",
        "      labels.append(target[i:i+target_size])\n",
        "\n",
        "  return np.array(data), np.array(labels)"
      ],
      "execution_count": null,
      "outputs": []
    },
    {
      "cell_type": "code",
      "metadata": {
        "id": "UrJAyKFT-FT1",
        "colab_type": "code",
        "colab": {}
      },
      "source": [
        "past_history = 15\n",
        "future_target = 0\n",
        "STEP = 1\n",
        "\n",
        "x_train_single, y_train_single = multivariate_data(dataset, dataset[:, 1], 0,\n",
        "                                                   TRAIN_SPLIT, past_history,\n",
        "                                                   future_target, STEP,\n",
        "                                                   single_step=True)\n",
        "x_val_single, y_val_single = multivariate_data(dataset, dataset[:, 1],\n",
        "                                               TRAIN_SPLIT, None, past_history,\n",
        "                                               future_target, STEP,\n",
        "                                               single_step=True)"
      ],
      "execution_count": null,
      "outputs": []
    },
    {
      "cell_type": "code",
      "metadata": {
        "id": "-TfGob_V78YS",
        "colab_type": "code",
        "colab": {}
      },
      "source": [
        "x_train_single.shape \n",
        "x_val_single.shape\n",
        "y_val_single.shape"
      ],
      "execution_count": null,
      "outputs": []
    },
    {
      "cell_type": "code",
      "metadata": {
        "id": "OrLhedNj8FM_",
        "colab_type": "code",
        "colab": {}
      },
      "source": [
        "BATCH_SIZE=6 # 6 Lotes de 3 filas o registros \n",
        "BUFFER_SIZE=100"
      ],
      "execution_count": null,
      "outputs": []
    },
    {
      "cell_type": "code",
      "metadata": {
        "id": "9-l33BNO8Meb",
        "colab_type": "code",
        "colab": {}
      },
      "source": [
        "train_data_single = tf.data.Dataset.from_tensor_slices((x_train_single, y_train_single))\n",
        "train_data_single = train_data_single.cache().shuffle(BUFFER_SIZE).batch(BATCH_SIZE).repeat()\n",
        "\n",
        "val_data_single = tf.data.Dataset.from_tensor_slices((x_val_single, y_val_single))\n",
        "val_data_single = val_data_single.batch(BATCH_SIZE).repeat()\n",
        "\n",
        "train_data_single\n",
        "val_data_single"
      ],
      "execution_count": null,
      "outputs": []
    },
    {
      "cell_type": "code",
      "metadata": {
        "id": "3AVl5rvEBMwW",
        "colab_type": "code",
        "colab": {}
      },
      "source": [
        "print(val_data_single)"
      ],
      "execution_count": null,
      "outputs": []
    },
    {
      "cell_type": "code",
      "metadata": {
        "id": "Snp4CFxN8U-Q",
        "colab_type": "code",
        "colab": {}
      },
      "source": [
        "single_step_model = tf.keras.models.Sequential()\n",
        "single_step_model.add(tf.keras.layers.LSTM(54,input_shape=x_train_single.shape[-2:]))\n",
        "single_step_model.add(tf.keras.layers.Dense(1))"
      ],
      "execution_count": null,
      "outputs": []
    },
    {
      "cell_type": "code",
      "metadata": {
        "id": "2cdYoMb0ByBE",
        "colab_type": "code",
        "colab": {}
      },
      "source": [
        "#otra forma de crear el modelo\n",
        "model = tf.keras.models.Sequential([\n",
        "    tf.keras.layers.LSTM(units=STEP, return_sequences=True, input_shape=(x_train_single.shape[1],1)),\n",
        "    tf.keras.layers.LSTM(units=STEP),\n",
        "    tf.keras.layers.Dense(1)])"
      ],
      "execution_count": null,
      "outputs": []
    },
    {
      "cell_type": "code",
      "metadata": {
        "id": "rwk31ycjB9pB",
        "colab_type": "code",
        "colab": {}
      },
      "source": [
        "#compilacion del otro modelo\n",
        "model.compile(loss='mse', optimizer=keras.optimizers.Adam(0.01))"
      ],
      "execution_count": null,
      "outputs": []
    },
    {
      "cell_type": "code",
      "metadata": {
        "id": "NzEVXqU08aAR",
        "colab_type": "code",
        "colab": {}
      },
      "source": [
        "x_train_single.shape[-2:]"
      ],
      "execution_count": null,
      "outputs": []
    },
    {
      "cell_type": "markdown",
      "metadata": {
        "id": "Zdzipp0V9zjL",
        "colab_type": "text"
      },
      "source": [
        "# compilacion del modelo"
      ]
    },
    {
      "cell_type": "code",
      "metadata": {
        "id": "f_DSLWYU9wuf",
        "colab_type": "code",
        "colab": {}
      },
      "source": [
        "single_step_model.compile(optimizer=tf.keras.optimizers.RMSprop(), loss='mse')"
      ],
      "execution_count": null,
      "outputs": []
    },
    {
      "cell_type": "code",
      "metadata": {
        "id": "vPMgQJ9o9TEe",
        "colab_type": "code",
        "colab": {}
      },
      "source": [
        "EPOCHS=30\n",
        "EVALUATION_INTERVAL=1\n",
        "single_step_history = single_step_model.fit(train_data_single, epochs=EPOCHS,\n",
        "                                            steps_per_epoch=EVALUATION_INTERVAL,\n",
        "                                            validation_data=val_data_single,\n",
        "                                            validation_steps=1)"
      ],
      "execution_count": null,
      "outputs": []
    },
    {
      "cell_type": "code",
      "metadata": {
        "id": "Jd47slhN98Of",
        "colab_type": "code",
        "colab": {}
      },
      "source": [
        "def plot_train_history(history, title):\n",
        "  loss = history.history['loss']\n",
        "  val_loss = history.history['val_loss']\n",
        "\n",
        "  epochs = range(len(loss))\n",
        "\n",
        "  plt.figure()\n",
        "\n",
        "  plt.plot(epochs, loss, 'b', label='Training loss')\n",
        "  plt.plot(epochs, val_loss, 'r', label='Validation loss')\n",
        "  plt.title(title)\n",
        "  plt.legend()\n",
        "\n",
        "  plt.show()"
      ],
      "execution_count": null,
      "outputs": []
    },
    {
      "cell_type": "code",
      "metadata": {
        "id": "wTnLZKiV-GgY",
        "colab_type": "code",
        "colab": {}
      },
      "source": [
        "plot_train_history(single_step_history,\n",
        "                   'Entrnamiento del Modelo de un paso y función de pérdida')"
      ],
      "execution_count": null,
      "outputs": []
    },
    {
      "cell_type": "code",
      "metadata": {
        "id": "9EtabEpzhjG3",
        "colab_type": "code",
        "colab": {}
      },
      "source": [
        "single_step_model.summary()"
      ],
      "execution_count": null,
      "outputs": []
    },
    {
      "cell_type": "code",
      "metadata": {
        "id": "wvpdpvRnhn4y",
        "colab_type": "code",
        "colab": {}
      },
      "source": [
        "#inputs = dataset[len_data - len_valid - time_step:].values\n",
        "#inputs = inputs.reshape(-1,1)\n",
        "#inputs  = scaler.transform(inputs)\n",
        "\n",
        "#x_test = []\n",
        "#for i in range(time_step,inputs.shape[0]):\n",
        "#    x_test.append(inputs[i-time_step:i,0])\n",
        "#x_test = np.array(x_test)\n",
        "#x_test = np.reshape(x_test, (x_test.shape[0],x_test.shape[1],1))"
      ],
      "execution_count": null,
      "outputs": []
    },
    {
      "cell_type": "code",
      "metadata": {
        "id": "GT56MOYl_83_",
        "colab_type": "code",
        "colab": {}
      },
      "source": [
        ""
      ],
      "execution_count": null,
      "outputs": []
    },
    {
      "cell_type": "markdown",
      "metadata": {
        "id": "2b1NoWk--lyq",
        "colab_type": "text"
      },
      "source": [
        "#prediccion a un paso"
      ]
    },
    {
      "cell_type": "code",
      "metadata": {
        "id": "CWd8QFj5-lBW",
        "colab_type": "code",
        "colab": {}
      },
      "source": [
        "for x, y in val_data_single.take(3):\n",
        "  plot = show_plot([x[0][:, 1].numpy(), y[0].numpy(),\n",
        "                    single_step_model.predict(x)[0]], 12,\n",
        "                   'Predicciones de un paso')\n",
        "  plot.show()"
      ],
      "execution_count": null,
      "outputs": []
    },
    {
      "cell_type": "markdown",
      "metadata": {
        "id": "ekJ3HiSzbHPL",
        "colab_type": "text"
      },
      "source": [
        "# siguiendo otro script\n",
        "https://www.curiousily.com/posts/time-series-forecasting-with-lstm-for-daily-coronavirus-cases/"
      ]
    }
  ]
}